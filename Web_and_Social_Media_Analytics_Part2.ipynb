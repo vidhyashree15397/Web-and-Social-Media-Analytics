{
  "nbformat": 4,
  "nbformat_minor": 0,
  "metadata": {
    "colab": {
      "provenance": []
    },
    "kernelspec": {
      "name": "python3",
      "display_name": "Python 3"
    },
    "language_info": {
      "name": "python"
    }
  },
  "cells": [
    {
      "cell_type": "code",
      "execution_count": null,
      "metadata": {
        "id": "1NSz2_o01Fa8"
      },
      "outputs": [],
      "source": [
        "# Importing libraries\n",
        "import pandas as pd\n",
        "import numpy as np\n",
        "import re\n",
        "from sklearn.feature_extraction.text import TfidfVectorizer\n",
        "from nltk import FreqDist\n",
        "from nltk.stem.porter import PorterStemmer\n",
        "from nltk.tokenize import word_tokenize\n",
        "from nltk.stem import WordNetLemmatizer\n",
        "import seaborn as sns\n",
        "import matplotlib.pyplot as plt\n",
        "sns.set(style=\"whitegrid\")\n",
        "%matplotlib inline\n",
        "\n",
        "# model evaluation\n",
        "from sklearn import metrics\n",
        "from sklearn.metrics import confusion_matrix\n",
        "from sklearn.metrics import precision_score\n",
        "from sklearn.metrics import precision_recall_curve\n",
        "\n",
        "# Using textblob to generate sentiment for easy visualization\n",
        "from textblob import TextBlob"
      ]
    },
    {
      "cell_type": "code",
      "source": [
        "from google.colab import drive\n",
        "drive.mount('/content/gdrive')"
      ],
      "metadata": {
        "colab": {
          "base_uri": "https://localhost:8080/"
        },
        "id": "AxIzbi_W31GU",
        "outputId": "544ac6b3-0b0b-4e9f-fe69-3d1036d76032"
      },
      "execution_count": null,
      "outputs": [
        {
          "output_type": "stream",
          "name": "stdout",
          "text": [
            "Mounted at /content/gdrive\n"
          ]
        }
      ]
    },
    {
      "cell_type": "code",
      "source": [
        "df=pd.read_csv('/content/gdrive/MyDrive/Web_and_social_media_analytics /final.csv')"
      ],
      "metadata": {
        "colab": {
          "base_uri": "https://localhost:8080/"
        },
        "id": "PXPqhyQ42amg",
        "outputId": "0b9d3a59-eea3-4c3e-956f-53ac48039f15"
      },
      "execution_count": null,
      "outputs": [
        {
          "output_type": "stream",
          "name": "stderr",
          "text": [
            "<ipython-input-3-250cd1c7fecd>:1: DtypeWarning: Columns (9) have mixed types. Specify dtype option on import or set low_memory=False.\n",
            "  df=pd.read_csv('/content/gdrive/MyDrive/Web_and_social_media_analytics /final.csv')\n"
          ]
        }
      ]
    },
    {
      "cell_type": "code",
      "source": [
        "df_pos_words=pd.read_csv(\"/content/gdrive/MyDrive/Web_and_social_media_analytics /pos_sentiment_word.csv\")\n",
        "df_neg_words=pd.read_csv(\"/content/gdrive/MyDrive/Web_and_social_media_analytics /neg_sentiment_word.csv\")"
      ],
      "metadata": {
        "id": "cosEvsx-1_EP"
      },
      "execution_count": null,
      "outputs": []
    },
    {
      "cell_type": "code",
      "source": [
        "# counting positive and negative instances\n",
        "pos_neg = df.review_sentiment.value_counts()\n",
        "pos_neg"
      ],
      "metadata": {
        "colab": {
          "base_uri": "https://localhost:8080/"
        },
        "id": "A64idsHf4YL_",
        "outputId": "50bf06b2-27fc-4513-ee61-62bea90e544d"
      },
      "execution_count": null,
      "outputs": [
        {
          "output_type": "execute_result",
          "data": {
            "text/plain": [
              "POSITIVE    32741\n",
              "NEGATIVE    11659\n",
              "Name: review_sentiment, dtype: int64"
            ]
          },
          "metadata": {},
          "execution_count": 5
        }
      ]
    },
    {
      "cell_type": "code",
      "source": [
        "# mapping labels to 0 and 1\n",
        "df['review_sentiment'] = df.review_sentiment.map({'POSITIVE':1, 'NEGATIVE':0})"
      ],
      "metadata": {
        "id": "zhA_qw3i41eg"
      },
      "execution_count": null,
      "outputs": []
    },
    {
      "cell_type": "code",
      "source": [
        "df.head()"
      ],
      "metadata": {
        "colab": {
          "base_uri": "https://localhost:8080/",
          "height": 603
        },
        "id": "_-2EAzw148cH",
        "outputId": "01ec8f94-fcc0-43df-a711-a99c51c8212d"
      },
      "execution_count": null,
      "outputs": [
        {
          "output_type": "execute_result",
          "data": {
            "text/plain": [
              "   Unnamed: 0.1  Unnamed: 0  overall  verified      reviewerID        asin  \\\n",
              "0             0           0      1.0     False   A5JLAU2ARJ0BO  B0000E3GWH   \n",
              "1             1           1      4.0     False  A1ACM1CBGORBN1  B0000E3GWH   \n",
              "2             2           2      3.0     False  A2V48Q03FZUOSD  B0000E3GWH   \n",
              "3             3           3      5.0      True  A1V3TRGWOMA8LC  B0000E3GWH   \n",
              "4             4           4      3.0     False  A3NOBH42C7UI5M  B0000E3GWH   \n",
              "\n",
              "                                      style    reviewerName  unixReviewTime  \\\n",
              "0  {'Package Type:': ' Standard Packaging'}    Old-and-Wise      1095724800   \n",
              "1  {'Package Type:': ' Standard Packaging'}    Sherry Berry      1090627200   \n",
              "2  {'Package Type:': ' Standard Packaging'}  Benjamin David      1089072000   \n",
              "3  {'Package Type:': ' Standard Packaging'}   James Beswick      1081728000   \n",
              "4  {'Package Type:': ' Standard Packaging'}          Kepela      1077148800   \n",
              "\n",
              "   vote  ...  feature also_view details price    category1   new_rank  \\\n",
              "0   2.0  ...       []        []      {}   0.0  Cell Phones  3059436.0   \n",
              "1  15.0  ...       []        []      {}   0.0  Cell Phones  3059436.0   \n",
              "2  11.0  ...       []        []      {}   0.0  Cell Phones  3059436.0   \n",
              "3   4.0  ...       []        []      {}   0.0  Cell Phones  3059436.0   \n",
              "4  12.0  ...       []        []      {}   0.0  Cell Phones  3059436.0   \n",
              "\n",
              "                                         review_text review_sentiment1  \\\n",
              "0  Bad reception This phone is ugly and heavy and...          Negative   \n",
              "1  Pretty good phone.. an improvement from my v20...          Positive   \n",
              "2  Not as user friendly as the Motorola V300- Thi...          Positive   \n",
              "3  The best phone I've ever owned ..and I'm from ...          Positive   \n",
              "4  I love the phone but it has some real problems...          Positive   \n",
              "\n",
              "  rating_class                                 review_text_nostop  \n",
              "0          bad  bad reception phone ugly heavy terrible user i...  \n",
              "1         good  pretty good phone improvement v205 samsung v20...  \n",
              "2         good  not user friendly motorola v300 samsung phone ...  \n",
              "3         good  best phone own europe phone network better sam...  \n",
              "4         good  love phone real problems phone amazingly light...  \n",
              "\n",
              "[5 rows x 26 columns]"
            ],
            "text/html": [
              "\n",
              "  <div id=\"df-2bc10d38-b984-4294-869d-25f6c0ed2999\" class=\"colab-df-container\">\n",
              "    <div>\n",
              "<style scoped>\n",
              "    .dataframe tbody tr th:only-of-type {\n",
              "        vertical-align: middle;\n",
              "    }\n",
              "\n",
              "    .dataframe tbody tr th {\n",
              "        vertical-align: top;\n",
              "    }\n",
              "\n",
              "    .dataframe thead th {\n",
              "        text-align: right;\n",
              "    }\n",
              "</style>\n",
              "<table border=\"1\" class=\"dataframe\">\n",
              "  <thead>\n",
              "    <tr style=\"text-align: right;\">\n",
              "      <th></th>\n",
              "      <th>Unnamed: 0.1</th>\n",
              "      <th>Unnamed: 0</th>\n",
              "      <th>overall</th>\n",
              "      <th>verified</th>\n",
              "      <th>reviewerID</th>\n",
              "      <th>asin</th>\n",
              "      <th>style</th>\n",
              "      <th>reviewerName</th>\n",
              "      <th>unixReviewTime</th>\n",
              "      <th>vote</th>\n",
              "      <th>...</th>\n",
              "      <th>feature</th>\n",
              "      <th>also_view</th>\n",
              "      <th>details</th>\n",
              "      <th>price</th>\n",
              "      <th>category1</th>\n",
              "      <th>new_rank</th>\n",
              "      <th>review_text</th>\n",
              "      <th>review_sentiment1</th>\n",
              "      <th>rating_class</th>\n",
              "      <th>review_text_nostop</th>\n",
              "    </tr>\n",
              "  </thead>\n",
              "  <tbody>\n",
              "    <tr>\n",
              "      <th>0</th>\n",
              "      <td>0</td>\n",
              "      <td>0</td>\n",
              "      <td>1.0</td>\n",
              "      <td>False</td>\n",
              "      <td>A5JLAU2ARJ0BO</td>\n",
              "      <td>B0000E3GWH</td>\n",
              "      <td>{'Package Type:': ' Standard Packaging'}</td>\n",
              "      <td>Old-and-Wise</td>\n",
              "      <td>1095724800</td>\n",
              "      <td>2.0</td>\n",
              "      <td>...</td>\n",
              "      <td>[]</td>\n",
              "      <td>[]</td>\n",
              "      <td>{}</td>\n",
              "      <td>0.0</td>\n",
              "      <td>Cell Phones</td>\n",
              "      <td>3059436.0</td>\n",
              "      <td>Bad reception This phone is ugly and heavy and...</td>\n",
              "      <td>Negative</td>\n",
              "      <td>bad</td>\n",
              "      <td>bad reception phone ugly heavy terrible user i...</td>\n",
              "    </tr>\n",
              "    <tr>\n",
              "      <th>1</th>\n",
              "      <td>1</td>\n",
              "      <td>1</td>\n",
              "      <td>4.0</td>\n",
              "      <td>False</td>\n",
              "      <td>A1ACM1CBGORBN1</td>\n",
              "      <td>B0000E3GWH</td>\n",
              "      <td>{'Package Type:': ' Standard Packaging'}</td>\n",
              "      <td>Sherry Berry</td>\n",
              "      <td>1090627200</td>\n",
              "      <td>15.0</td>\n",
              "      <td>...</td>\n",
              "      <td>[]</td>\n",
              "      <td>[]</td>\n",
              "      <td>{}</td>\n",
              "      <td>0.0</td>\n",
              "      <td>Cell Phones</td>\n",
              "      <td>3059436.0</td>\n",
              "      <td>Pretty good phone.. an improvement from my v20...</td>\n",
              "      <td>Positive</td>\n",
              "      <td>good</td>\n",
              "      <td>pretty good phone improvement v205 samsung v20...</td>\n",
              "    </tr>\n",
              "    <tr>\n",
              "      <th>2</th>\n",
              "      <td>2</td>\n",
              "      <td>2</td>\n",
              "      <td>3.0</td>\n",
              "      <td>False</td>\n",
              "      <td>A2V48Q03FZUOSD</td>\n",
              "      <td>B0000E3GWH</td>\n",
              "      <td>{'Package Type:': ' Standard Packaging'}</td>\n",
              "      <td>Benjamin David</td>\n",
              "      <td>1089072000</td>\n",
              "      <td>11.0</td>\n",
              "      <td>...</td>\n",
              "      <td>[]</td>\n",
              "      <td>[]</td>\n",
              "      <td>{}</td>\n",
              "      <td>0.0</td>\n",
              "      <td>Cell Phones</td>\n",
              "      <td>3059436.0</td>\n",
              "      <td>Not as user friendly as the Motorola V300- Thi...</td>\n",
              "      <td>Positive</td>\n",
              "      <td>good</td>\n",
              "      <td>not user friendly motorola v300 samsung phone ...</td>\n",
              "    </tr>\n",
              "    <tr>\n",
              "      <th>3</th>\n",
              "      <td>3</td>\n",
              "      <td>3</td>\n",
              "      <td>5.0</td>\n",
              "      <td>True</td>\n",
              "      <td>A1V3TRGWOMA8LC</td>\n",
              "      <td>B0000E3GWH</td>\n",
              "      <td>{'Package Type:': ' Standard Packaging'}</td>\n",
              "      <td>James Beswick</td>\n",
              "      <td>1081728000</td>\n",
              "      <td>4.0</td>\n",
              "      <td>...</td>\n",
              "      <td>[]</td>\n",
              "      <td>[]</td>\n",
              "      <td>{}</td>\n",
              "      <td>0.0</td>\n",
              "      <td>Cell Phones</td>\n",
              "      <td>3059436.0</td>\n",
              "      <td>The best phone I've ever owned ..and I'm from ...</td>\n",
              "      <td>Positive</td>\n",
              "      <td>good</td>\n",
              "      <td>best phone own europe phone network better sam...</td>\n",
              "    </tr>\n",
              "    <tr>\n",
              "      <th>4</th>\n",
              "      <td>4</td>\n",
              "      <td>4</td>\n",
              "      <td>3.0</td>\n",
              "      <td>False</td>\n",
              "      <td>A3NOBH42C7UI5M</td>\n",
              "      <td>B0000E3GWH</td>\n",
              "      <td>{'Package Type:': ' Standard Packaging'}</td>\n",
              "      <td>Kepela</td>\n",
              "      <td>1077148800</td>\n",
              "      <td>12.0</td>\n",
              "      <td>...</td>\n",
              "      <td>[]</td>\n",
              "      <td>[]</td>\n",
              "      <td>{}</td>\n",
              "      <td>0.0</td>\n",
              "      <td>Cell Phones</td>\n",
              "      <td>3059436.0</td>\n",
              "      <td>I love the phone but it has some real problems...</td>\n",
              "      <td>Positive</td>\n",
              "      <td>good</td>\n",
              "      <td>love phone real problems phone amazingly light...</td>\n",
              "    </tr>\n",
              "  </tbody>\n",
              "</table>\n",
              "<p>5 rows × 26 columns</p>\n",
              "</div>\n",
              "    <div class=\"colab-df-buttons\">\n",
              "\n",
              "  <div class=\"colab-df-container\">\n",
              "    <button class=\"colab-df-convert\" onclick=\"convertToInteractive('df-2bc10d38-b984-4294-869d-25f6c0ed2999')\"\n",
              "            title=\"Convert this dataframe to an interactive table.\"\n",
              "            style=\"display:none;\">\n",
              "\n",
              "  <svg xmlns=\"http://www.w3.org/2000/svg\" height=\"24px\" viewBox=\"0 -960 960 960\">\n",
              "    <path d=\"M120-120v-720h720v720H120Zm60-500h600v-160H180v160Zm220 220h160v-160H400v160Zm0 220h160v-160H400v160ZM180-400h160v-160H180v160Zm440 0h160v-160H620v160ZM180-180h160v-160H180v160Zm440 0h160v-160H620v160Z\"/>\n",
              "  </svg>\n",
              "    </button>\n",
              "\n",
              "  <style>\n",
              "    .colab-df-container {\n",
              "      display:flex;\n",
              "      gap: 12px;\n",
              "    }\n",
              "\n",
              "    .colab-df-convert {\n",
              "      background-color: #E8F0FE;\n",
              "      border: none;\n",
              "      border-radius: 50%;\n",
              "      cursor: pointer;\n",
              "      display: none;\n",
              "      fill: #1967D2;\n",
              "      height: 32px;\n",
              "      padding: 0 0 0 0;\n",
              "      width: 32px;\n",
              "    }\n",
              "\n",
              "    .colab-df-convert:hover {\n",
              "      background-color: #E2EBFA;\n",
              "      box-shadow: 0px 1px 2px rgba(60, 64, 67, 0.3), 0px 1px 3px 1px rgba(60, 64, 67, 0.15);\n",
              "      fill: #174EA6;\n",
              "    }\n",
              "\n",
              "    .colab-df-buttons div {\n",
              "      margin-bottom: 4px;\n",
              "    }\n",
              "\n",
              "    [theme=dark] .colab-df-convert {\n",
              "      background-color: #3B4455;\n",
              "      fill: #D2E3FC;\n",
              "    }\n",
              "\n",
              "    [theme=dark] .colab-df-convert:hover {\n",
              "      background-color: #434B5C;\n",
              "      box-shadow: 0px 1px 3px 1px rgba(0, 0, 0, 0.15);\n",
              "      filter: drop-shadow(0px 1px 2px rgba(0, 0, 0, 0.3));\n",
              "      fill: #FFFFFF;\n",
              "    }\n",
              "  </style>\n",
              "\n",
              "    <script>\n",
              "      const buttonEl =\n",
              "        document.querySelector('#df-2bc10d38-b984-4294-869d-25f6c0ed2999 button.colab-df-convert');\n",
              "      buttonEl.style.display =\n",
              "        google.colab.kernel.accessAllowed ? 'block' : 'none';\n",
              "\n",
              "      async function convertToInteractive(key) {\n",
              "        const element = document.querySelector('#df-2bc10d38-b984-4294-869d-25f6c0ed2999');\n",
              "        const dataTable =\n",
              "          await google.colab.kernel.invokeFunction('convertToInteractive',\n",
              "                                                    [key], {});\n",
              "        if (!dataTable) return;\n",
              "\n",
              "        const docLinkHtml = 'Like what you see? Visit the ' +\n",
              "          '<a target=\"_blank\" href=https://colab.research.google.com/notebooks/data_table.ipynb>data table notebook</a>'\n",
              "          + ' to learn more about interactive tables.';\n",
              "        element.innerHTML = '';\n",
              "        dataTable['output_type'] = 'display_data';\n",
              "        await google.colab.output.renderOutput(dataTable, element);\n",
              "        const docLink = document.createElement('div');\n",
              "        docLink.innerHTML = docLinkHtml;\n",
              "        element.appendChild(docLink);\n",
              "      }\n",
              "    </script>\n",
              "  </div>\n",
              "\n",
              "\n",
              "<div id=\"df-1635e6a3-f4ac-4309-8bcd-fbe43448e2f1\">\n",
              "  <button class=\"colab-df-quickchart\" onclick=\"quickchart('df-1635e6a3-f4ac-4309-8bcd-fbe43448e2f1')\"\n",
              "            title=\"Suggest charts.\"\n",
              "            style=\"display:none;\">\n",
              "\n",
              "<svg xmlns=\"http://www.w3.org/2000/svg\" height=\"24px\"viewBox=\"0 0 24 24\"\n",
              "     width=\"24px\">\n",
              "    <g>\n",
              "        <path d=\"M19 3H5c-1.1 0-2 .9-2 2v14c0 1.1.9 2 2 2h14c1.1 0 2-.9 2-2V5c0-1.1-.9-2-2-2zM9 17H7v-7h2v7zm4 0h-2V7h2v10zm4 0h-2v-4h2v4z\"/>\n",
              "    </g>\n",
              "</svg>\n",
              "  </button>\n",
              "\n",
              "<style>\n",
              "  .colab-df-quickchart {\n",
              "    background-color: #E8F0FE;\n",
              "    border: none;\n",
              "    border-radius: 50%;\n",
              "    cursor: pointer;\n",
              "    display: none;\n",
              "    fill: #1967D2;\n",
              "    height: 32px;\n",
              "    padding: 0 0 0 0;\n",
              "    width: 32px;\n",
              "  }\n",
              "\n",
              "  .colab-df-quickchart:hover {\n",
              "    background-color: #E2EBFA;\n",
              "    box-shadow: 0px 1px 2px rgba(60, 64, 67, 0.3), 0px 1px 3px 1px rgba(60, 64, 67, 0.15);\n",
              "    fill: #174EA6;\n",
              "  }\n",
              "\n",
              "  [theme=dark] .colab-df-quickchart {\n",
              "    background-color: #3B4455;\n",
              "    fill: #D2E3FC;\n",
              "  }\n",
              "\n",
              "  [theme=dark] .colab-df-quickchart:hover {\n",
              "    background-color: #434B5C;\n",
              "    box-shadow: 0px 1px 3px 1px rgba(0, 0, 0, 0.15);\n",
              "    filter: drop-shadow(0px 1px 2px rgba(0, 0, 0, 0.3));\n",
              "    fill: #FFFFFF;\n",
              "  }\n",
              "</style>\n",
              "\n",
              "  <script>\n",
              "    async function quickchart(key) {\n",
              "      const charts = await google.colab.kernel.invokeFunction(\n",
              "          'suggestCharts', [key], {});\n",
              "    }\n",
              "    (() => {\n",
              "      let quickchartButtonEl =\n",
              "        document.querySelector('#df-1635e6a3-f4ac-4309-8bcd-fbe43448e2f1 button');\n",
              "      quickchartButtonEl.style.display =\n",
              "        google.colab.kernel.accessAllowed ? 'block' : 'none';\n",
              "    })();\n",
              "  </script>\n",
              "</div>\n",
              "    </div>\n",
              "  </div>\n"
            ]
          },
          "metadata": {},
          "execution_count": 7
        }
      ]
    },
    {
      "cell_type": "code",
      "source": [
        "df['review_text_nostop'][0]"
      ],
      "metadata": {
        "colab": {
          "base_uri": "https://localhost:8080/",
          "height": 53
        },
        "id": "aUJ8z36O7Azx",
        "outputId": "f1925998-da7b-4551-bb56-a39493f7a711"
      },
      "execution_count": null,
      "outputs": [
        {
          "output_type": "execute_result",
          "data": {
            "text/plain": [
              "'bad reception phone ugly heavy terrible user interface techies like drop call like crazy manhattan moto v600 better phone take better picture better clarity reception cheaper moto v600 tmobile stay ugly monster'"
            ],
            "application/vnd.google.colaboratory.intrinsic+json": {
              "type": "string"
            }
          },
          "metadata": {},
          "execution_count": 8
        }
      ]
    },
    {
      "cell_type": "code",
      "source": [
        "# calculating sentiment polarity using external libraries\n",
        "df['sentiment'] = df['review_text'].apply(lambda x: TextBlob(str(x)).sentiment.polarity)\n",
        "df.head(3)"
      ],
      "metadata": {
        "colab": {
          "base_uri": "https://localhost:8080/",
          "height": 401
        },
        "id": "H0TGG-Zs4jfo",
        "outputId": "678cd764-7582-407c-e0ed-7b67255b21b3"
      },
      "execution_count": null,
      "outputs": [
        {
          "output_type": "execute_result",
          "data": {
            "text/plain": [
              "   Unnamed: 0.1  Unnamed: 0  overall  verified      reviewerID        asin  \\\n",
              "0             0           0      1.0     False   A5JLAU2ARJ0BO  B0000E3GWH   \n",
              "1             1           1      4.0     False  A1ACM1CBGORBN1  B0000E3GWH   \n",
              "2             2           2      3.0     False  A2V48Q03FZUOSD  B0000E3GWH   \n",
              "\n",
              "                                      style    reviewerName  unixReviewTime  \\\n",
              "0  {'Package Type:': ' Standard Packaging'}    Old-and-Wise      1095724800   \n",
              "1  {'Package Type:': ' Standard Packaging'}    Sherry Berry      1090627200   \n",
              "2  {'Package Type:': ' Standard Packaging'}  Benjamin David      1089072000   \n",
              "\n",
              "   vote  ...  also_view details price    category1   new_rank  \\\n",
              "0   2.0  ...         []      {}   0.0  Cell Phones  3059436.0   \n",
              "1  15.0  ...         []      {}   0.0  Cell Phones  3059436.0   \n",
              "2  11.0  ...         []      {}   0.0  Cell Phones  3059436.0   \n",
              "\n",
              "                                         review_text review_sentiment1  \\\n",
              "0  Bad reception This phone is ugly and heavy and...          Negative   \n",
              "1  Pretty good phone.. an improvement from my v20...          Positive   \n",
              "2  Not as user friendly as the Motorola V300- Thi...          Positive   \n",
              "\n",
              "  rating_class                                 review_text_nostop  sentiment  \n",
              "0          bad  bad reception phone ugly heavy terrible user i...  -0.200000  \n",
              "1         good  pretty good phone improvement v205 samsung v20...   0.214537  \n",
              "2         good  not user friendly motorola v300 samsung phone ...   0.099918  \n",
              "\n",
              "[3 rows x 27 columns]"
            ],
            "text/html": [
              "\n",
              "  <div id=\"df-4a5098a9-ba4d-445c-b907-e7d2581cc0b5\" class=\"colab-df-container\">\n",
              "    <div>\n",
              "<style scoped>\n",
              "    .dataframe tbody tr th:only-of-type {\n",
              "        vertical-align: middle;\n",
              "    }\n",
              "\n",
              "    .dataframe tbody tr th {\n",
              "        vertical-align: top;\n",
              "    }\n",
              "\n",
              "    .dataframe thead th {\n",
              "        text-align: right;\n",
              "    }\n",
              "</style>\n",
              "<table border=\"1\" class=\"dataframe\">\n",
              "  <thead>\n",
              "    <tr style=\"text-align: right;\">\n",
              "      <th></th>\n",
              "      <th>Unnamed: 0.1</th>\n",
              "      <th>Unnamed: 0</th>\n",
              "      <th>overall</th>\n",
              "      <th>verified</th>\n",
              "      <th>reviewerID</th>\n",
              "      <th>asin</th>\n",
              "      <th>style</th>\n",
              "      <th>reviewerName</th>\n",
              "      <th>unixReviewTime</th>\n",
              "      <th>vote</th>\n",
              "      <th>...</th>\n",
              "      <th>also_view</th>\n",
              "      <th>details</th>\n",
              "      <th>price</th>\n",
              "      <th>category1</th>\n",
              "      <th>new_rank</th>\n",
              "      <th>review_text</th>\n",
              "      <th>review_sentiment1</th>\n",
              "      <th>rating_class</th>\n",
              "      <th>review_text_nostop</th>\n",
              "      <th>sentiment</th>\n",
              "    </tr>\n",
              "  </thead>\n",
              "  <tbody>\n",
              "    <tr>\n",
              "      <th>0</th>\n",
              "      <td>0</td>\n",
              "      <td>0</td>\n",
              "      <td>1.0</td>\n",
              "      <td>False</td>\n",
              "      <td>A5JLAU2ARJ0BO</td>\n",
              "      <td>B0000E3GWH</td>\n",
              "      <td>{'Package Type:': ' Standard Packaging'}</td>\n",
              "      <td>Old-and-Wise</td>\n",
              "      <td>1095724800</td>\n",
              "      <td>2.0</td>\n",
              "      <td>...</td>\n",
              "      <td>[]</td>\n",
              "      <td>{}</td>\n",
              "      <td>0.0</td>\n",
              "      <td>Cell Phones</td>\n",
              "      <td>3059436.0</td>\n",
              "      <td>Bad reception This phone is ugly and heavy and...</td>\n",
              "      <td>Negative</td>\n",
              "      <td>bad</td>\n",
              "      <td>bad reception phone ugly heavy terrible user i...</td>\n",
              "      <td>-0.200000</td>\n",
              "    </tr>\n",
              "    <tr>\n",
              "      <th>1</th>\n",
              "      <td>1</td>\n",
              "      <td>1</td>\n",
              "      <td>4.0</td>\n",
              "      <td>False</td>\n",
              "      <td>A1ACM1CBGORBN1</td>\n",
              "      <td>B0000E3GWH</td>\n",
              "      <td>{'Package Type:': ' Standard Packaging'}</td>\n",
              "      <td>Sherry Berry</td>\n",
              "      <td>1090627200</td>\n",
              "      <td>15.0</td>\n",
              "      <td>...</td>\n",
              "      <td>[]</td>\n",
              "      <td>{}</td>\n",
              "      <td>0.0</td>\n",
              "      <td>Cell Phones</td>\n",
              "      <td>3059436.0</td>\n",
              "      <td>Pretty good phone.. an improvement from my v20...</td>\n",
              "      <td>Positive</td>\n",
              "      <td>good</td>\n",
              "      <td>pretty good phone improvement v205 samsung v20...</td>\n",
              "      <td>0.214537</td>\n",
              "    </tr>\n",
              "    <tr>\n",
              "      <th>2</th>\n",
              "      <td>2</td>\n",
              "      <td>2</td>\n",
              "      <td>3.0</td>\n",
              "      <td>False</td>\n",
              "      <td>A2V48Q03FZUOSD</td>\n",
              "      <td>B0000E3GWH</td>\n",
              "      <td>{'Package Type:': ' Standard Packaging'}</td>\n",
              "      <td>Benjamin David</td>\n",
              "      <td>1089072000</td>\n",
              "      <td>11.0</td>\n",
              "      <td>...</td>\n",
              "      <td>[]</td>\n",
              "      <td>{}</td>\n",
              "      <td>0.0</td>\n",
              "      <td>Cell Phones</td>\n",
              "      <td>3059436.0</td>\n",
              "      <td>Not as user friendly as the Motorola V300- Thi...</td>\n",
              "      <td>Positive</td>\n",
              "      <td>good</td>\n",
              "      <td>not user friendly motorola v300 samsung phone ...</td>\n",
              "      <td>0.099918</td>\n",
              "    </tr>\n",
              "  </tbody>\n",
              "</table>\n",
              "<p>3 rows × 27 columns</p>\n",
              "</div>\n",
              "    <div class=\"colab-df-buttons\">\n",
              "\n",
              "  <div class=\"colab-df-container\">\n",
              "    <button class=\"colab-df-convert\" onclick=\"convertToInteractive('df-4a5098a9-ba4d-445c-b907-e7d2581cc0b5')\"\n",
              "            title=\"Convert this dataframe to an interactive table.\"\n",
              "            style=\"display:none;\">\n",
              "\n",
              "  <svg xmlns=\"http://www.w3.org/2000/svg\" height=\"24px\" viewBox=\"0 -960 960 960\">\n",
              "    <path d=\"M120-120v-720h720v720H120Zm60-500h600v-160H180v160Zm220 220h160v-160H400v160Zm0 220h160v-160H400v160ZM180-400h160v-160H180v160Zm440 0h160v-160H620v160ZM180-180h160v-160H180v160Zm440 0h160v-160H620v160Z\"/>\n",
              "  </svg>\n",
              "    </button>\n",
              "\n",
              "  <style>\n",
              "    .colab-df-container {\n",
              "      display:flex;\n",
              "      gap: 12px;\n",
              "    }\n",
              "\n",
              "    .colab-df-convert {\n",
              "      background-color: #E8F0FE;\n",
              "      border: none;\n",
              "      border-radius: 50%;\n",
              "      cursor: pointer;\n",
              "      display: none;\n",
              "      fill: #1967D2;\n",
              "      height: 32px;\n",
              "      padding: 0 0 0 0;\n",
              "      width: 32px;\n",
              "    }\n",
              "\n",
              "    .colab-df-convert:hover {\n",
              "      background-color: #E2EBFA;\n",
              "      box-shadow: 0px 1px 2px rgba(60, 64, 67, 0.3), 0px 1px 3px 1px rgba(60, 64, 67, 0.15);\n",
              "      fill: #174EA6;\n",
              "    }\n",
              "\n",
              "    .colab-df-buttons div {\n",
              "      margin-bottom: 4px;\n",
              "    }\n",
              "\n",
              "    [theme=dark] .colab-df-convert {\n",
              "      background-color: #3B4455;\n",
              "      fill: #D2E3FC;\n",
              "    }\n",
              "\n",
              "    [theme=dark] .colab-df-convert:hover {\n",
              "      background-color: #434B5C;\n",
              "      box-shadow: 0px 1px 3px 1px rgba(0, 0, 0, 0.15);\n",
              "      filter: drop-shadow(0px 1px 2px rgba(0, 0, 0, 0.3));\n",
              "      fill: #FFFFFF;\n",
              "    }\n",
              "  </style>\n",
              "\n",
              "    <script>\n",
              "      const buttonEl =\n",
              "        document.querySelector('#df-4a5098a9-ba4d-445c-b907-e7d2581cc0b5 button.colab-df-convert');\n",
              "      buttonEl.style.display =\n",
              "        google.colab.kernel.accessAllowed ? 'block' : 'none';\n",
              "\n",
              "      async function convertToInteractive(key) {\n",
              "        const element = document.querySelector('#df-4a5098a9-ba4d-445c-b907-e7d2581cc0b5');\n",
              "        const dataTable =\n",
              "          await google.colab.kernel.invokeFunction('convertToInteractive',\n",
              "                                                    [key], {});\n",
              "        if (!dataTable) return;\n",
              "\n",
              "        const docLinkHtml = 'Like what you see? Visit the ' +\n",
              "          '<a target=\"_blank\" href=https://colab.research.google.com/notebooks/data_table.ipynb>data table notebook</a>'\n",
              "          + ' to learn more about interactive tables.';\n",
              "        element.innerHTML = '';\n",
              "        dataTable['output_type'] = 'display_data';\n",
              "        await google.colab.output.renderOutput(dataTable, element);\n",
              "        const docLink = document.createElement('div');\n",
              "        docLink.innerHTML = docLinkHtml;\n",
              "        element.appendChild(docLink);\n",
              "      }\n",
              "    </script>\n",
              "  </div>\n",
              "\n",
              "    </div>\n",
              "  </div>\n"
            ]
          },
          "metadata": {},
          "execution_count": 9
        }
      ]
    },
    {
      "cell_type": "code",
      "source": [
        "#Barchart using to visualize the sentiment distribution generated above\n",
        "plt.figure(figsize=(8,8))\n",
        "plt.margins(0.02)\n",
        "plt.xlabel('Sentiment', fontsize=20)\n",
        "plt.xticks(fontsize=20)\n",
        "plt.ylabel('Frequency', fontsize=20)\n",
        "plt.yticks(fontsize=20)\n",
        "plt.hist(df['sentiment'], bins=55)\n",
        "plt.title('Sentiment Distribution', fontsize=30)\n",
        "plt.show()"
      ],
      "metadata": {
        "colab": {
          "base_uri": "https://localhost:8080/",
          "height": 769
        },
        "id": "g29duwpp4Jba",
        "outputId": "ea9c9c5f-0974-4527-ba7d-418b0d3484a0"
      },
      "execution_count": null,
      "outputs": [
        {
          "output_type": "display_data",
          "data": {
            "text/plain": [
              "<Figure size 800x800 with 1 Axes>"
            ],
            "image/png": "[encoded data removed]"
          },
          "metadata": {}
        }
      ]
    },
    {
      "cell_type": "code",
      "source": [
        "# Heatmap from overall rating, review length, sentiment and word count\n",
        "\n",
        "# calculating word count and review length\n",
        "df['word_count'] = df[\"review_text\"].apply(lambda x: len(str(x).split(\" \")))\n",
        "df['review_len'] =df[\"review_text\"].apply(lambda x: len(str(x)))\n",
        "\n",
        "# visualising the heatmap\n",
        "correlation = df[['overall','sentiment', 'review_len', 'word_count']].corr()\n",
        "mask = np.zeros_like(correlation, dtype=np.bool)\n",
        "mask[np.triu_indices_from(mask)] = True\n",
        "plt.figure(figsize=(8,5))\n",
        "plt.xticks(fontsize=16)\n",
        "plt.yticks(fontsize=16)\n",
        "sns.heatmap(correlation, cmap='YlGnBu', annot=True, annot_kws={\"size\": 12}, linewidths=10, vmin=-1.5, mask=mask)"
      ],
      "metadata": {
        "colab": {
          "base_uri": "https://localhost:8080/",
          "height": 545
        },
        "id": "24P2AKWi4_GW",
        "outputId": "3b31748b-a0a1-44c3-d28d-30bc68b9c4f3"
      },
      "execution_count": null,
      "outputs": [
        {
          "output_type": "stream",
          "name": "stderr",
          "text": [
            "<ipython-input-11-0048e32eaa6f>:9: DeprecationWarning: `np.bool` is a deprecated alias for the builtin `bool`. To silence this warning, use `bool` by itself. Doing this will not modify any behavior and is safe. If you specifically wanted the numpy scalar type, use `np.bool_` here.\n",
            "Deprecated in NumPy 1.20; for more details and guidance: https://numpy.org/devdocs/release/1.20.0-notes.html#deprecations\n",
            "  mask = np.zeros_like(correlation, dtype=np.bool)\n"
          ]
        },
        {
          "output_type": "execute_result",
          "data": {
            "text/plain": [
              "<Axes: >"
            ]
          },
          "metadata": {},
          "execution_count": 11
        },
        {
          "output_type": "display_data",
          "data": {
            "text/plain": [
              "<Figure size 800x500 with 2 Axes>"
            ],
            "image/png": "[encoded data removed]"
          },
          "metadata": {}
        }
      ]
    },
    {
      "cell_type": "code",
      "source": [
        "# convert to X and y\n",
        "X = df.review_text\n",
        "y = df.review_sentiment\n",
        "print(X.shape)\n",
        "print(y.shape)"
      ],
      "metadata": {
        "colab": {
          "base_uri": "https://localhost:8080/"
        },
        "id": "E6QBQbF52pIP",
        "outputId": "24b631a6-0f3d-48b4-ac45-49b43d7388ed"
      },
      "execution_count": null,
      "outputs": [
        {
          "output_type": "stream",
          "name": "stdout",
          "text": [
            "(44400,)\n",
            "(44400,)\n"
          ]
        }
      ]
    },
    {
      "cell_type": "code",
      "source": [
        "# splitting into test and train\n",
        "from sklearn.model_selection  import train_test_split\n",
        "X_train, X_test, y_train, y_test = train_test_split(X, y, random_state=1)"
      ],
      "metadata": {
        "id": "Ckx_SZdOr-cG"
      },
      "execution_count": null,
      "outputs": []
    },
    {
      "cell_type": "code",
      "source": [
        "X_train.head()"
      ],
      "metadata": {
        "colab": {
          "base_uri": "https://localhost:8080/"
        },
        "id": "AsxikWWy3IAt",
        "outputId": "36478e66-4a25-47cb-f620-ed500bb1de36"
      },
      "execution_count": null,
      "outputs": [
        {
          "output_type": "execute_result",
          "data": {
            "text/plain": [
              "36747    It worked well for the life of it. It worked w...\n",
              "14788                       Five Stars Excelente Producto!\n",
              "6782     Very pleased More important for me is the life...\n",
              "6154     I wish i had a iphone or android Let me start ...\n",
              "23616    Research research I'm just letting you know do...\n",
              "Name: review_text, dtype: object"
            ]
          },
          "metadata": {},
          "execution_count": 14
        }
      ]
    },
    {
      "cell_type": "code",
      "source": [
        "y_train.head()"
      ],
      "metadata": {
        "colab": {
          "base_uri": "https://localhost:8080/"
        },
        "id": "1jV1zjXz3Kzs",
        "outputId": "990d2bfb-a465-4e4d-89b8-932314f8c01f"
      },
      "execution_count": null,
      "outputs": [
        {
          "output_type": "execute_result",
          "data": {
            "text/plain": [
              "36747    0\n",
              "14788    0\n",
              "6782     1\n",
              "6154     1\n",
              "23616    1\n",
              "Name: review_sentiment, dtype: int64"
            ]
          },
          "metadata": {},
          "execution_count": 15
        }
      ]
    },
    {
      "cell_type": "code",
      "source": [
        "# vectorizing the sentences\n",
        "from sklearn.feature_extraction.text import CountVectorizer\n",
        "vect = CountVectorizer()"
      ],
      "metadata": {
        "id": "WSKp_YmJ6C29"
      },
      "execution_count": null,
      "outputs": []
    },
    {
      "cell_type": "code",
      "source": [
        "vect.fit(X_train)"
      ],
      "metadata": {
        "colab": {
          "base_uri": "https://localhost:8080/",
          "height": 75
        },
        "id": "wupQ3N9H6EO9",
        "outputId": "fb9e37b7-cda9-4f2b-9f8b-fe7ad62d60f3"
      },
      "execution_count": null,
      "outputs": [
        {
          "output_type": "execute_result",
          "data": {
            "text/plain": [
              "CountVectorizer()"
            ],
            "text/html": [
              "<style>#sk-container-id-1 {color: black;background-color: white;}#sk-container-id-1 pre{padding: 0;}#sk-container-id-1 div.sk-toggleable {background-color: white;}#sk-container-id-1 label.sk-toggleable__label {cursor: pointer;display: block;width: 100%;margin-bottom: 0;padding: 0.3em;box-sizing: border-box;text-align: center;}#sk-container-id-1 label.sk-toggleable__label-arrow:before {content: \"▸\";float: left;margin-right: 0.25em;color: #696969;}#sk-container-id-1 label.sk-toggleable__label-arrow:hover:before {color: black;}#sk-container-id-1 div.sk-estimator:hover label.sk-toggleable__label-arrow:before {color: black;}#sk-container-id-1 div.sk-toggleable__content {max-height: 0;max-width: 0;overflow: hidden;text-align: left;background-color: #f0f8ff;}#sk-container-id-1 div.sk-toggleable__content pre {margin: 0.2em;color: black;border-radius: 0.25em;background-color: #f0f8ff;}#sk-container-id-1 input.sk-toggleable__control:checked~div.sk-toggleable__content {max-height: 200px;max-width: 100%;overflow: auto;}#sk-container-id-1 input.sk-toggleable__control:checked~label.sk-toggleable__label-arrow:before {content: \"▾\";}#sk-container-id-1 div.sk-estimator input.sk-toggleable__control:checked~label.sk-toggleable__label {background-color: #d4ebff;}#sk-container-id-1 div.sk-label input.sk-toggleable__control:checked~label.sk-toggleable__label {background-color: #d4ebff;}#sk-container-id-1 input.sk-hidden--visually {border: 0;clip: rect(1px 1px 1px 1px);clip: rect(1px, 1px, 1px, 1px);height: 1px;margin: -1px;overflow: hidden;padding: 0;position: absolute;width: 1px;}#sk-container-id-1 div.sk-estimator {font-family: monospace;background-color: #f0f8ff;border: 1px dotted black;border-radius: 0.25em;box-sizing: border-box;margin-bottom: 0.5em;}#sk-container-id-1 div.sk-estimator:hover {background-color: #d4ebff;}#sk-container-id-1 div.sk-parallel-item::after {content: \"\";width: 100%;border-bottom: 1px solid gray;flex-grow: 1;}#sk-container-id-1 div.sk-label:hover label.sk-toggleable__label {background-color: #d4ebff;}#sk-container-id-1 div.sk-serial::before {content: \"\";position: absolute;border-left: 1px solid gray;box-sizing: border-box;top: 0;bottom: 0;left: 50%;z-index: 0;}#sk-container-id-1 div.sk-serial {display: flex;flex-direction: column;align-items: center;background-color: white;padding-right: 0.2em;padding-left: 0.2em;position: relative;}#sk-container-id-1 div.sk-item {position: relative;z-index: 1;}#sk-container-id-1 div.sk-parallel {display: flex;align-items: stretch;justify-content: center;background-color: white;position: relative;}#sk-container-id-1 div.sk-item::before, #sk-container-id-1 div.sk-parallel-item::before {content: \"\";position: absolute;border-left: 1px solid gray;box-sizing: border-box;top: 0;bottom: 0;left: 50%;z-index: -1;}#sk-container-id-1 div.sk-parallel-item {display: flex;flex-direction: column;z-index: 1;position: relative;background-color: white;}#sk-container-id-1 div.sk-parallel-item:first-child::after {align-self: flex-end;width: 50%;}#sk-container-id-1 div.sk-parallel-item:last-child::after {align-self: flex-start;width: 50%;}#sk-container-id-1 div.sk-parallel-item:only-child::after {width: 0;}#sk-container-id-1 div.sk-dashed-wrapped {border: 1px dashed gray;margin: 0 0.4em 0.5em 0.4em;box-sizing: border-box;padding-bottom: 0.4em;background-color: white;}#sk-container-id-1 div.sk-label label {font-family: monospace;font-weight: bold;display: inline-block;line-height: 1.2em;}#sk-container-id-1 div.sk-label-container {text-align: center;}#sk-container-id-1 div.sk-container {/* jupyter's `normalize.less` sets `[hidden] { display: none; }` but bootstrap.min.css set `[hidden] { display: none !important; }` so we also need the `!important` here to be able to override the default hidden behavior on the sphinx rendered scikit-learn.org. See: https://github.com/scikit-learn/scikit-learn/issues/21755 */display: inline-block !important;position: relative;}#sk-container-id-1 div.sk-text-repr-fallback {display: none;}</style><div id=\"sk-container-id-1\" class=\"sk-top-container\"><div class=\"sk-text-repr-fallback\"><pre>CountVectorizer()</pre><b>In a Jupyter environment, please rerun this cell to show the HTML representation or trust the notebook. <br />On GitHub, the HTML representation is unable to render, please try loading this page with nbviewer.org.</b></div><div class=\"sk-container\" hidden><div class=\"sk-item\"><div class=\"sk-estimator sk-toggleable\"><input class=\"sk-toggleable__control sk-hidden--visually\" id=\"sk-estimator-id-1\" type=\"checkbox\" checked><label for=\"sk-estimator-id-1\" class=\"sk-toggleable__label sk-toggleable__label-arrow\">CountVectorizer</label><div class=\"sk-toggleable__content\"><pre>CountVectorizer()</pre></div></div></div></div></div>"
            ]
          },
          "metadata": {},
          "execution_count": 17
        }
      ]
    },
    {
      "cell_type": "code",
      "source": [
        "vect.vocabulary_"
      ],
      "metadata": {
        "colab": {
          "base_uri": "https://localhost:8080/"
        },
        "id": "JluLHV2w6Gwg",
        "outputId": "c2b91d83-4bc2-4d09-ac35-20183ac3f10b"
      },
      "execution_count": null,
      "outputs": [
        {
          "output_type": "execute_result",
          "data": {
            "text/plain": [
              "{'it': 15229,\n",
              " 'worked': 30095,\n",
              " 'well': 29680,\n",
              " 'for': 11779,\n",
              " 'the': 27024,\n",
              " 'life': 16246,\n",
              " 'of': 19029,\n",
              " 'just': 15515,\n",
              " 'not': 18748,\n",
              " 'enough': 10224,\n",
              " 'memory': 17277,\n",
              " 'and': 3057,\n",
              " 'pain': 19741,\n",
              " 'to': 27399,\n",
              " 'transfer': 27686,\n",
              " 'data': 8150,\n",
              " 'sd': 23948,\n",
              " 'card': 5922,\n",
              " 'five': 11513,\n",
              " 'stars': 25665,\n",
              " 'excelente': 10644,\n",
              " 'producto': 21286,\n",
              " 'very': 29076,\n",
              " 'pleased': 20606,\n",
              " 'more': 17868,\n",
              " 'important': 14368,\n",
              " 'me': 17150,\n",
              " 'is': 15182,\n",
              " 'battery': 4455,\n",
              " 'used': 28776,\n",
              " 'this': 27139,\n",
              " 'phone': 20302,\n",
              " 'in': 14417,\n",
              " 'normal': 18730,\n",
              " 'environment': 10296,\n",
              " 'after': 2637,\n",
              " 'cycles': 8003,\n",
              " 'became': 4547,\n",
              " 'full': 12092,\n",
              " 'shape': 24287,\n",
              " 'now': 18828,\n",
              " 'last': 15932,\n",
              " 'hours': 13896,\n",
              " 'on': 19164,\n",
              " 'top': 27486,\n",
              " 'superb': 26196,\n",
              " 'works': 30109,\n",
              " 'really': 22126,\n",
              " 'one': 19170,\n",
              " 'small': 24913,\n",
              " 'negative': 18424,\n",
              " 'point': 20706,\n",
              " 'that': 27018,\n",
              " 'comes': 6789,\n",
              " 'as': 3510,\n",
              " 'an': 3038,\n",
              " 'at': 3627,\n",
              " 'unit': 28438,\n",
              " 'with': 29981,\n",
              " 'pre': 20963,\n",
              " 'loaded': 16452,\n",
              " 'apps': 3351,\n",
              " 'do': 9249,\n",
              " 'need': 18399,\n",
              " 'can': 5831,\n",
              " 'be': 4505,\n",
              " 'removed': 22689,\n",
              " 'major': 16864,\n",
              " 'irritant': 15169,\n",
              " 'give': 12531,\n",
              " 'pleasure': 20612,\n",
              " 'wish': 29973,\n",
              " 'had': 13174,\n",
              " 'iphone': 15106,\n",
              " 'or': 19341,\n",
              " 'android': 3074,\n",
              " 'let': 16132,\n",
              " 'start': 25667,\n",
              " 'off': 19034,\n",
              " 'by': 5679,\n",
              " 'saying': 23753,\n",
              " 'smartphone': 24939,\n",
              " 'no': 18656,\n",
              " 'sense': 24120,\n",
              " 'word': 30077,\n",
              " 'smart': 24922,\n",
              " 'nor': 18727,\n",
              " 'does': 9279,\n",
              " 'function': 12125,\n",
              " 'have': 13391,\n",
              " 'tmobile': 27393,\n",
              " 'version': 29065,\n",
              " 'which': 29763,\n",
              " 'got': 12758,\n",
              " 'ripped': 23239,\n",
              " '350': 1012,\n",
              " 'number': 18868,\n",
              " 'problem': 21228,\n",
              " 'soooo': 25223,\n",
              " 'slow': 24885,\n",
              " 'downloaded': 9397,\n",
              " 'bejeweled': 4631,\n",
              " 'feel': 11287,\n",
              " 'like': 16293,\n",
              " 'paid': 19738,\n",
              " 'see': 24027,\n",
              " 'blackberry': 4868,\n",
              " 'loading': 16454,\n",
              " 'sign': 24550,\n",
              " 'every': 10555,\n",
              " 'seconds': 24004,\n",
              " 'my': 18160,\n",
              " 'husband': 14025,\n",
              " 'has': 13350,\n",
              " 'samsung': 23650,\n",
              " 'galaxy': 12247,\n",
              " 'am': 2936,\n",
              " 'jealous': 15353,\n",
              " 'compared': 6892,\n",
              " 'any': 3187,\n",
              " 'other': 19436,\n",
              " 'decent': 8268,\n",
              " 'price': 21142,\n",
              " 'range': 21959,\n",
              " 'chance': 6185,\n",
              " 'go': 12630,\n",
              " 'but': 5639,\n",
              " 'take': 26590,\n",
              " 'advice': 2579,\n",
              " 'buy': 5662,\n",
              " 'yourself': 30459,\n",
              " 'real': 22097,\n",
              " 'research': 22867,\n",
              " 'letting': 16142,\n",
              " 'you': 30444,\n",
              " 'know': 15741,\n",
              " 'don': 9319,\n",
              " 'expect': 10810,\n",
              " 'lot': 16604,\n",
              " 'updates': 28675,\n",
              " 'company': 6881,\n",
              " 'good': 12685,\n",
              " 'luck': 16688,\n",
              " 'finding': 11427,\n",
              " 'cases': 6002,\n",
              " 'belt': 4666,\n",
              " 'clips': 6573,\n",
              " 'such': 26102,\n",
              " 'getting': 12445,\n",
              " 'support': 26246,\n",
              " 'snapchat': 25021,\n",
              " 'filters': 11405,\n",
              " 'work': 30087,\n",
              " 'so': 25095,\n",
              " 'daughter': 8164,\n",
              " 'hates': 13377,\n",
              " 'three': 27190,\n",
              " 'batery': 4439,\n",
              " 'worse': 30131,\n",
              " 'recommended': 22288,\n",
              " '100': 71,\n",
              " 'responsible': 22986,\n",
              " 'salesman': 23611,\n",
              " 'powerful': 20907,\n",
              " 'gadget': 12232,\n",
              " 'cell': 6090,\n",
              " 'too': 27468,\n",
              " 'was': 29508,\n",
              " 'introduced': 15009,\n",
              " 'us': 28749,\n",
              " 'march': 16990,\n",
              " '2008': 552,\n",
              " 'using': 28799,\n",
              " 'pros': 21426,\n",
              " 'excellent': 10656,\n",
              " 'sound': 25261,\n",
              " 'quality': 21741,\n",
              " 'without': 29993,\n",
              " 'speakers': 25333,\n",
              " 'video': 29133,\n",
              " 'recorder': 22320,\n",
              " 'above': 2170,\n",
              " 'average': 3812,\n",
              " 'picture': 20404,\n",
              " 'lots': 16605,\n",
              " 'connectivity': 7200,\n",
              " 'option': 19334,\n",
              " 'free': 11952,\n",
              " 'available': 3798,\n",
              " 'mosh': 17892,\n",
              " 'cons': 7212,\n",
              " 'lacks': 15852,\n",
              " 'latest': 15953,\n",
              " 'firmware': 11487,\n",
              " 'update': 28667,\n",
              " 'micro': 17425,\n",
              " 'slot': 24879,\n",
              " 'about': 2165,\n",
              " 'days': 8178,\n",
              " 'moderate': 17769,\n",
              " 'heavy': 13498,\n",
              " 'usage': 28757,\n",
              " 'than': 27002,\n",
              " 'calling': 5786,\n",
              " 'sent': 24135,\n",
              " 'wrong': 30217,\n",
              " 'ordered': 19352,\n",
              " 'excited': 10694,\n",
              " 'waiting': 29407,\n",
              " 'when': 29748,\n",
              " 'finally': 11415,\n",
              " 'arrived': 3470,\n",
              " 'looked': 16549,\n",
              " 'box': 5271,\n",
              " 'wasn': 29521,\n",
              " 'sealed': 23972,\n",
              " 'onevof': 19187,\n",
              " 'batteries': 4452,\n",
              " 'out': 19464,\n",
              " 'plastic': 20557,\n",
              " 'all': 2821,\n",
              " 'accesories': 2244,\n",
              " 'were': 29690,\n",
              " 'open': 19241,\n",
              " 'then': 27047,\n",
              " 'put': 21653,\n",
              " 'back': 4232,\n",
              " 'allready': 2852,\n",
              " 'been': 4582,\n",
              " 'configured': 7151,\n",
              " 'factory': 11054,\n",
              " 'reset': 22892,\n",
              " 'bought': 5248,\n",
              " 'from': 12028,\n",
              " 'amazon': 2956,\n",
              " 'many': 16972,\n",
              " 'times': 27321,\n",
              " 'refuse': 22477,\n",
              " 'anything': 3199,\n",
              " 'again': 2651,\n",
              " 'understand': 28306,\n",
              " 'why': 29837,\n",
              " 'received': 22202,\n",
              " 'want': 29457,\n",
              " 'send': 24103,\n",
              " 'because': 4552,\n",
              " 'may': 17117,\n",
              " 'never': 18502,\n",
              " 'get': 12436,\n",
              " 'money': 17823,\n",
              " 'will': 29891,\n",
              " 'try': 27919,\n",
              " 'sale': 23607,\n",
              " 'craigslist': 7665,\n",
              " 'purchase': 21593,\n",
              " 'disapointed': 8964,\n",
              " 'service': 24190,\n",
              " 'florescent': 11659,\n",
              " 'orange': 19342,\n",
              " 'red': 22350,\n",
              " 'most': 17894,\n",
              " 'outstanding': 19530,\n",
              " 've': 28979,\n",
              " 'ever': 10545,\n",
              " 'seen': 24042,\n",
              " 'highly': 13643,\n",
              " 'thanks': 27010,\n",
              " 'exactly': 10611,\n",
              " 'they': 27088,\n",
              " 'published': 21531,\n",
              " 'new': 18509,\n",
              " 'disappointed': 8973,\n",
              " 'sold': 25148,\n",
              " 'obvious': 18972,\n",
              " 'refurbished': 22469,\n",
              " 'product': 21281,\n",
              " 'only': 19197,\n",
              " 'we': 29586,\n",
              " 'pad': 19719,\n",
              " 'lighting': 16281,\n",
              " 'behind': 4622,\n",
              " 'numbers': 18870,\n",
              " 'doesn': 9280,\n",
              " 'properly': 21403,\n",
              " 'since': 24643,\n",
              " 'rest': 22991,\n",
              " 'supposed': 26252,\n",
              " 'decided': 8277,\n",
              " 'keep': 15579,\n",
              " 'funciona': 12109,\n",
              " 'en': 10098,\n",
              " 'venezuela': 29008,\n",
              " '20': 539,\n",
              " 'gold': 12667,\n",
              " 'cheap': 6241,\n",
              " 'use': 28770,\n",
              " 'stand': 25630,\n",
              " 'alone': 2875,\n",
              " 'gps': 12785,\n",
              " 'ipod': 15123,\n",
              " 'replacement': 22773,\n",
              " 'microsd': 17448,\n",
              " 'even': 10534,\n",
              " 'wifi': 29866,\n",
              " 'aunt': 3730,\n",
              " 'loved': 16627,\n",
              " 'her': 13562,\n",
              " 'international': 14952,\n",
              " 'unlocked': 28468,\n",
              " 'moto': 17915,\n",
              " '2nd': 863,\n",
              " 'gen': 12374,\n",
              " 'went': 29687,\n",
              " 'kind': 15667,\n",
              " 'delivery': 8465,\n",
              " 'quick': 21785,\n",
              " 'still': 25784,\n",
              " 'learning': 16040,\n",
              " 'love': 16626,\n",
              " 'fact': 11048,\n",
              " 'able': 2155,\n",
              " 'reasonable': 22148,\n",
              " 'haven': 13394,\n",
              " 'played': 20583,\n",
              " 'much': 18052,\n",
              " 'camera': 5807,\n",
              " 'photo': 20341,\n",
              " 'took': 27471,\n",
              " 'looks': 16557,\n",
              " 'great': 12916,\n",
              " 'two': 28044,\n",
              " 'stared': 25655,\n",
              " 'problems': 21234,\n",
              " 'months': 17851,\n",
              " 'think': 27122,\n",
              " 'overpaid': 19606,\n",
              " 'referbished': 22413,\n",
              " 'awesome': 3859,\n",
              " 'design': 8616,\n",
              " 'performance': 20146,\n",
              " 'amazing': 2951,\n",
              " 'piece': 20413,\n",
              " 'technology': 26764,\n",
              " 'if': 14205,\n",
              " 'ui': 28137,\n",
              " 'isn': 15197,\n",
              " 'style': 26008,\n",
              " 'month': 17848,\n",
              " 'single': 24658,\n",
              " 'freeze': 11972,\n",
              " 'didn': 8812,\n",
              " 'reboot': 22166,\n",
              " 'white': 29789,\n",
              " 'color': 6748,\n",
              " 'ins': 14764,\n",
              " 'ago': 2684,\n",
              " 'how': 13910,\n",
              " 'email': 10002,\n",
              " 'them': 27037,\n",
              " 'excelent': 10643,\n",
              " 'nice': 18571,\n",
              " 'decoded': 8300,\n",
              " 'couldn': 7571,\n",
              " 'travelled': 27757,\n",
              " 'africa': 2633,\n",
              " 'called': 5779,\n",
              " 'mobile': 17731,\n",
              " 'decode': 8299,\n",
              " 'refused': 22478,\n",
              " 'value': 28929,\n",
              " 'son': 25201,\n",
              " 'thank': 27004,\n",
              " 'originally': 19395,\n",
              " 'brought': 5431,\n",
              " 'gift': 12475,\n",
              " 'testing': 26952,\n",
              " 'prepping': 21063,\n",
              " 'make': 16868,\n",
              " 'own': 19656,\n",
              " 'should': 24438,\n",
              " 'tell': 26852,\n",
              " 'bad': 4274,\n",
              " 'dont': 9328,\n",
              " 'waste': 29525,\n",
              " 'your': 30455,\n",
              " 'cover': 7617,\n",
              " 'kept': 15590,\n",
              " 'coming': 6800,\n",
              " 'did': 8809,\n",
              " 'what': 29721,\n",
              " 'time': 27310,\n",
              " 'wanted': 29458,\n",
              " 'his': 13691,\n",
              " 'birthday': 4837,\n",
              " 'prefer': 21010,\n",
              " 'personally': 20218,\n",
              " 'tough': 27564,\n",
              " 'expensive': 10840,\n",
              " 'device': 8726,\n",
              " 'some': 25177,\n",
              " 'folks': 11739,\n",
              " 'having': 13397,\n",
              " 'sort': 25242,\n",
              " 'symbol': 26461,\n",
              " 'superiority': 26213,\n",
              " 'apple': 3296,\n",
              " 'kid': 15641,\n",
              " 'kids': 15647,\n",
              " 'school': 23831,\n",
              " 'he': 13432,\n",
              " 'boy': 5277,\n",
              " 'who': 29809,\n",
              " 'makes': 16872,\n",
              " 'grades': 12816,\n",
              " 'stays': 25706,\n",
              " 'trouble': 27876,\n",
              " 'him': 13665,\n",
              " 'previously': 21135,\n",
              " 'wife': 29862,\n",
              " 'upgrade': 28682,\n",
              " 'tracfone': 27606,\n",
              " 'non': 18697,\n",
              " 'fast': 11179,\n",
              " 'beautiful': 4534,\n",
              " 'internal': 14948,\n",
              " 'expandable': 10797,\n",
              " 'resolution': 22936,\n",
              " 'takes': 26596,\n",
              " 'pics': 20400,\n",
              " 'four': 11896,\n",
              " 'happy': 13297,\n",
              " 'customer': 7956,\n",
              " 'pretty': 21118,\n",
              " 'inexpensive': 14629,\n",
              " 'ting': 27336,\n",
              " 'screen': 23899,\n",
              " 'clear': 6526,\n",
              " 'sounds': 25271,\n",
              " 'occasional': 18976,\n",
              " 'also': 2899,\n",
              " '13mpixel': 274,\n",
              " 'greatest': 12921,\n",
              " 'there': 27060,\n",
              " 'significant': 24559,\n",
              " 'empty': 10084,\n",
              " 'little': 16404,\n",
              " 'official': 19058,\n",
              " 'lollipop': 16525,\n",
              " 'phones': 20326,\n",
              " 'purchased': 21594,\n",
              " 'came': 5803,\n",
              " 'bothered': 5228,\n",
              " 'replace': 22768,\n",
              " 'yet': 30418,\n",
              " 'otherwise': 19441,\n",
              " 'reasonably': 22150,\n",
              " 'conditions': 7107,\n",
              " 'true': 27896,\n",
              " 'flagship': 11532,\n",
              " 'killer': 15655,\n",
              " 'huge': 13971,\n",
              " 'fan': 11125,\n",
              " 'notes': 18774,\n",
              " 'motos': 17942,\n",
              " 'budget': 5496,\n",
              " 'friendly': 12003,\n",
              " 'devices': 8727,\n",
              " 'simplifies': 24619,\n",
              " 'things': 27119,\n",
              " 'hardware': 13324,\n",
              " 'short': 24417,\n",
              " 'cuts': 7982,\n",
              " 'create': 7717,\n",
              " 'balanced': 4308,\n",
              " 'priced': 21143,\n",
              " 'manufacturer': 16968,\n",
              " 'amazed': 2947,\n",
              " 'mich': 17419,\n",
              " 'bang': 4344,\n",
              " 'buck': 5481,\n",
              " 'here': 13565,\n",
              " 'combat': 6770,\n",
              " 'common': 6839,\n",
              " 'complaints': 6957,\n",
              " 'would': 30150,\n",
              " 'say': 23748,\n",
              " 'long': 16532,\n",
              " 'bloatware': 4978,\n",
              " 'however': 13914,\n",
              " 'between': 4736,\n",
              " 'gbs': 12341,\n",
              " 'ram': 21943,\n",
              " 'convenient': 7391,\n",
              " 'cache': 5732,\n",
              " 'button': 5652,\n",
              " 'notification': 18791,\n",
              " 'shade': 24263,\n",
              " 'auto': 3755,\n",
              " 'app': 3262,\n",
              " 'manager': 16918,\n",
              " 'always': 2934,\n",
              " 'snappy': 25035,\n",
              " 'sure': 26273,\n",
              " 'are': 3410,\n",
              " 'preloaded': 21036,\n",
              " 'root': 23349,\n",
              " 'uninstall': 28416,\n",
              " 'ones': 19181,\n",
              " '64': 1534,\n",
              " 'gb': 12339,\n",
              " 'storage': 25834,\n",
              " 'being': 4630,\n",
              " 'these': 27081,\n",
              " 'difference': 8829,\n",
              " 'people': 20089,\n",
              " 'category': 6042,\n",
              " 'photos': 20359,\n",
              " 'look': 16547,\n",
              " 'blurry': 5062,\n",
              " 'until': 28619,\n",
              " 'tap': 26642,\n",
              " 'focus': 11718,\n",
              " 'taking': 26597,\n",
              " 'hdr': 13426,\n",
              " 'mode': 17759,\n",
              " 'freaking': 11944,\n",
              " 'sleep': 24799,\n",
              " 'optimizations': 19324,\n",
              " 'depending': 8536,\n",
              " 'scene': 23807,\n",
              " 'kill': 15653,\n",
              " 'easily': 9778,\n",
              " 'day': 8172,\n",
              " 'heavily': 13495,\n",
              " 'drain': 9439,\n",
              " 'quich': 21783,\n",
              " 'charger': 6216,\n",
              " 'software': 25135,\n",
              " 'mixed': 17695,\n",
              " 'feelings': 11289,\n",
              " 'folder': 11731,\n",
              " 'organization': 19369,\n",
              " 'find': 11423,\n",
              " 'useful': 28780,\n",
              " 'disclaimer': 9001,\n",
              " 'stock': 25806,\n",
              " 'drawer': 9459,\n",
              " 'experience': 10850,\n",
              " 'alphabetically': 2887,\n",
              " 'double': 9363,\n",
              " 'while': 29767,\n",
              " 'wake': 29411,\n",
              " 'up': 28655,\n",
              " 'lock': 16478,\n",
              " 'way': 29570,\n",
              " 'draw': 9456,\n",
              " 'launch': 15970,\n",
              " 'volume': 29288,\n",
              " 'easy': 9784,\n",
              " 'access': 2248,\n",
              " 'trying': 27922,\n",
              " 'capture': 5907,\n",
              " 'something': 25190,\n",
              " 'quickly': 21796,\n",
              " 'especially': 10419,\n",
              " 'handy': 13268,\n",
              " 'third': 27133,\n",
              " 'party': 19893,\n",
              " 'launcher': 15972,\n",
              " 'default': 8337,\n",
              " 'bit': 4841,\n",
              " 'theme': 27039,\n",
              " 'options': 19337,\n",
              " 'improve': 14403,\n",
              " 'somewhat': 25194,\n",
              " 'manually': 16961,\n",
              " 'change': 6191,\n",
              " 'balance': 4307,\n",
              " 'saturation': 23727,\n",
              " 'opinion': 19286,\n",
              " 'temperature': 26870,\n",
              " 'realistic': 22106,\n",
              " 'someone': 25185,\n",
              " 'prefers': 21019,\n",
              " 'saturated': 23724,\n",
              " 'displays': 9115,\n",
              " 'switch': 26424,\n",
              " 'vivid': 29234,\n",
              " 'display': 9110,\n",
              " 'settings': 24212,\n",
              " 'thing': 27115,\n",
              " 'keys': 15621,\n",
              " 'lit': 16384,\n",
              " 'big': 4788,\n",
              " 'deal': 8203,\n",
              " 'conclusion': 7083,\n",
              " 'looking': 16554,\n",
              " 'best': 4713,\n",
              " 'period': 20161,\n",
              " 'features': 11260,\n",
              " 'gigs': 12492,\n",
              " 'welcome': 29676,\n",
              " 'sight': 24545,\n",
              " 'power': 20899,\n",
              " 'users': 28792,\n",
              " 'cool': 7437,\n",
              " 'guy': 13109,\n",
              " 'intel': 14882,\n",
              " 'cameras': 5813,\n",
              " 'manual': 16960,\n",
              " 'rocker': 23304,\n",
              " 'lived': 16412,\n",
              " 'lg': 16161,\n",
              " 'slight': 24826,\n",
              " 'included': 14473,\n",
              " 'terrific': 26933,\n",
              " 'plus': 20658,\n",
              " 'games': 12280,\n",
              " 'over': 19545,\n",
              " 'music': 18124,\n",
              " 'podcasts': 20693,\n",
              " 'books': 5158,\n",
              " 'hundred': 13998,\n",
              " 'touch': 27537,\n",
              " 'stuff': 25977,\n",
              " 'setup': 24217,\n",
              " 'migration': 17493,\n",
              " 'fairly': 11082,\n",
              " 'excluding': 10708,\n",
              " 'few': 11327,\n",
              " 'she': 24319,\n",
              " 'loves': 16635,\n",
              " 'step': 25738,\n",
              " 'processing': 21257,\n",
              " 'cost': 7550,\n",
              " 'won': 30047,\n",
              " 'shatter': 24308,\n",
              " 'class': 6499,\n",
              " 'leaders': 16013,\n",
              " 'liking': 16305,\n",
              " 'disable': 8954,\n",
              " 'initial': 14700,\n",
              " 'asus': 3621,\n",
              " 'done': 9322,\n",
              " 'its': 15258,\n",
              " 'zenui': 30559,\n",
              " 'feels': 11290,\n",
              " 'right': 23208,\n",
              " 'amount': 3009,\n",
              " 'noob': 18717,\n",
              " 'overlay': 19592,\n",
              " 'daily': 8082,\n",
              " 'driver': 9495,\n",
              " 'years': 30391,\n",
              " 'come': 6782,\n",
              " 'model': 17760,\n",
              " 'rumored': 23459,\n",
              " 'definitely': 8397,\n",
              " 'consider': 7232,\n",
              " 'myself': 18179,\n",
              " 'though': 27166,\n",
              " 'charging': 6219,\n",
              " 'supercharger': 26202,\n",
              " '64gb': 1546,\n",
              " 'flip': 11621,\n",
              " 'nicely': 18574,\n",
              " 'limited': 16316,\n",
              " 'far': 11152,\n",
              " 'build': 5538,\n",
              " 'solid': 25156,\n",
              " 'sturdy': 25998,\n",
              " 'placement': 20526,\n",
              " 'odd': 19011,\n",
              " 'place': 20522,\n",
              " 'convert': 7411,\n",
              " 'working': 30101,\n",
              " 'walmart': 29442,\n",
              " '45': 1199,\n",
              " '30': 880,\n",
              " 'straight': 25857,\n",
              " 'talk': 26603,\n",
              " 'unlimited': 28459,\n",
              " 'text': 26964,\n",
              " 'sim': 24588,\n",
              " '63': 1526,\n",
              " 'tax': 26688,\n",
              " 'home': 13766,\n",
              " 'logged': 16496,\n",
              " 'com': 6765,\n",
              " 'laptop': 15917,\n",
              " 'opened': 19244,\n",
              " 'package': 19705,\n",
              " 'finished': 11454,\n",
              " '15': 320,\n",
              " 'min': 17531,\n",
              " 'google': 12710,\n",
              " 'play': 20578,\n",
              " 'account': 2292,\n",
              " 'set': 24203,\n",
              " 'address': 2461,\n",
              " 'billing': 4809,\n",
              " 'info': 14655,\n",
              " 'into': 14997,\n",
              " 'apn': 3250,\n",
              " 'names': 18288,\n",
              " 'read': 22078,\n",
              " 'instructions': 14845,\n",
              " 'enter': 10243,\n",
              " 'changes': 6196,\n",
              " 'couple': 7600,\n",
              " 'everything': 10567,\n",
              " 'glitches': 12574,\n",
              " 'owned': 19658,\n",
              " 'past': 19920,\n",
              " 'reason': 22147,\n",
              " 'activate': 2381,\n",
              " 'cdma': 6078,\n",
              " 'gsm': 13044,\n",
              " 'network': 18492,\n",
              " 'contract': 7348,\n",
              " 'verizon': 29047,\n",
              " 'bye': 5680,\n",
              " 'future': 12169,\n",
              " 'exelente': 10738,\n",
              " 'vnzla': 29251,\n",
              " '32gb': 971,\n",
              " 'finger': 11440,\n",
              " 'print': 21177,\n",
              " 'recognition': 22256,\n",
              " 'smooth': 24987,\n",
              " 'videos': 29141,\n",
              " 'altough': 2928,\n",
              " 'suddenly': 26115,\n",
              " 'empties': 10081,\n",
              " 'happened': 13286,\n",
              " 'blu': 5022,\n",
              " 'fun': 12104,\n",
              " 'name': 18282,\n",
              " 'beginner': 4605,\n",
              " 'level': 16144,\n",
              " 'windows': 29914,\n",
              " 'revolution': 23149,\n",
              " 'left': 16067,\n",
              " 'spinning': 25425,\n",
              " 'dust': 9655,\n",
              " 'better': 4731,\n",
              " 'bargain': 4379,\n",
              " '99': 1988,\n",
              " 'considering': 7239,\n",
              " 'second': 24000,\n",
              " 'cortana': 7536,\n",
              " 'fascinated': 11170,\n",
              " 'extant': 10927,\n",
              " 'ai': 2714,\n",
              " 'siri': 24674,\n",
              " 'echo': 9813,\n",
              " 'recent': 22207,\n",
              " 'reading': 22085,\n",
              " 'leads': 16016,\n",
              " 'believe': 4640,\n",
              " 'soon': 25219,\n",
              " 'lag': 15862,\n",
              " 'security': 24021,\n",
              " 'requirements': 22844,\n",
              " 'first': 11491,\n",
              " 'graphics': 12876,\n",
              " 'weak': 29587,\n",
              " 'depends': 8537,\n",
              " 'interface': 14928,\n",
              " 'stated': 25683,\n",
              " 'sleek': 24796,\n",
              " 'navigate': 18338,\n",
              " 'made': 16799,\n",
              " 'nokia': 18684,\n",
              " 'cellphones': 6102,\n",
              " 'old': 19126,\n",
              " 'n96': 18256,\n",
              " 'symbian': 26460,\n",
              " 'amazingly': 2952,\n",
              " 'improved': 14404,\n",
              " 'speed': 25382,\n",
              " 'response': 22981,\n",
              " 'ovi': 19648,\n",
              " 'store': 25836,\n",
              " 'downloading': 9399,\n",
              " 'tons': 27467,\n",
              " '12mp': 238,\n",
              " 'combined': 6775,\n",
              " 'geotagging': 12425,\n",
              " '720p': 1665,\n",
              " 'recording': 22321,\n",
              " 'feature': 11255,\n",
              " 'integrated': 14876,\n",
              " 'facebook': 11025,\n",
              " 'allows': 2848,\n",
              " 'post': 20863,\n",
              " 'comment': 6816,\n",
              " 'upload': 28698,\n",
              " 're': 22057,\n",
              " 'going': 12665,\n",
              " 'another': 3144,\n",
              " 'radio': 21906,\n",
              " 'live': 16409,\n",
              " 'streaming': 25890,\n",
              " 'listening': 16374,\n",
              " 'n8': 18225,\n",
              " 'directly': 8939,\n",
              " 'shiny': 24366,\n",
              " 'amoled': 3004,\n",
              " 'perrfect': 20199,\n",
              " 'div': 9212,\n",
              " 'id': 14157,\n",
              " 'block': 4982,\n",
              " 'r2z9m6kn92rwyd': 21874,\n",
              " 'section': 24013,\n",
              " 'spacing': 25297,\n",
              " 'mini': 17549,\n",
              " 'input': 14753,\n",
              " 'type': 28061,\n",
              " 'hidden': 13618,\n",
              " 'https': 13953,\n",
              " 'images': 14280,\n",
              " 'na': 18260,\n",
              " 'ssl': 25572,\n",
              " 'd16fw9bowvs': 8018,\n",
              " 'mp4': 17982,\n",
              " 'url': 28744,\n",
              " '71anhg9ytgs': 1651,\n",
              " 'png': 20668,\n",
              " 'slate': 24785,\n",
              " 'img': 14301,\n",
              " 'nbsp': 18360,\n",
              " 'kata': 15561,\n",
              " 'i3s': 14073,\n",
              " 'review': 23128,\n",
              " 'trained': 27659,\n",
              " 'electronics': 9960,\n",
              " 'aficionado': 2626,\n",
              " 'cells': 6105,\n",
              " 'll': 16425,\n",
              " 'explain': 10877,\n",
              " 'starting': 25672,\n",
              " 'business': 5625,\n",
              " '26': 738,\n",
              " 'overuse': 19640,\n",
              " 'expand': 10794,\n",
              " 'began': 4597,\n",
              " 'calls': 5789,\n",
              " 'handled': 13248,\n",
              " 'others': 19440,\n",
              " 'making': 16877,\n",
              " 'crazy': 7706,\n",
              " 'along': 2876,\n",
              " 'computers': 7048,\n",
              " 'digital': 8861,\n",
              " 'resisted': 22916,\n",
              " 'caught': 6050,\n",
              " 'mostly': 17896,\n",
              " 'hook': 13810,\n",
              " 'functions': 12135,\n",
              " 'charged': 6215,\n",
              " 'connected': 7195,\n",
              " 'wireless': 29952,\n",
              " 'run': 23462,\n",
              " 'bitdefender': 4844,\n",
              " 'antivirus': 3176,\n",
              " 'adblock': 2441,\n",
              " 'onto': 19206,\n",
              " 'inch': 14455,\n",
              " 'tablet': 26550,\n",
              " 'instead': 14829,\n",
              " 'ipad': 15096,\n",
              " 'sad': 23574,\n",
              " 'help': 13535,\n",
              " 'air': 2731,\n",
              " 'improvement': 14405,\n",
              " 'size': 24704,\n",
              " 'found': 11890,\n",
              " 'large': 15923,\n",
              " 'keyboard': 15603,\n",
              " 'voice': 29262,\n",
              " 'search': 23982,\n",
              " 'commands': 6807,\n",
              " 'hadn': 13177,\n",
              " 'watched': 29538,\n",
              " 'tv': 28006,\n",
              " 'shows': 24465,\n",
              " 'next': 18541,\n",
              " 'connecting': 7196,\n",
              " 'computer': 7047,\n",
              " 'files': 11384,\n",
              " 'paired': 19756,\n",
              " 'bluetooth': 5044,\n",
              " 'speaker': 25328,\n",
              " 'headset': 13455,\n",
              " 'ready': 22095,\n",
              " 'world': 30115,\n",
              " 'thought': 27168,\n",
              " 'um': 28161,\n",
              " 'forget': 11816,\n",
              " 'contacts': 7293,\n",
              " 'ring': 23220,\n",
              " 'note': 18759,\n",
              " 'sizes': 24707,\n",
              " 'cards': 5928,\n",
              " 'carrier': 5975,\n",
              " 'uses': 28794,\n",
              " '3g': 1085,\n",
              " 'tech': 26739,\n",
              " 'mainly': 16854,\n",
              " 'matter': 17089,\n",
              " '50': 1299,\n",
              " 'mbps': 17136,\n",
              " 'connect': 7192,\n",
              " 'often': 19076,\n",
              " 'knowledge': 15746,\n",
              " 'satellites': 23699,\n",
              " 'expert': 10864,\n",
              " 'started': 25669,\n",
              " 'researching': 22870,\n",
              " '4g': 1260,\n",
              " 'networks': 18495,\n",
              " 'coincided': 6707,\n",
              " 'lte': 16680,\n",
              " 'factors': 11053,\n",
              " 'involved': 15066,\n",
              " 'depend': 8528,\n",
              " 'location': 16475,\n",
              " 'choose': 6356,\n",
              " 'article': 3488,\n",
              " 'sums': 26171,\n",
              " 'www': 30242,\n",
              " 'pcmag': 19990,\n",
              " 'article2': 3489,\n",
              " '2817': 781,\n",
              " '2399984': 674,\n",
              " '00': 0,\n",
              " 'asp': 3546,\n",
              " 'fine': 11432,\n",
              " 'case': 5998,\n",
              " 'add': 2443,\n",
              " 'mobility': 17741,\n",
              " 'needed': 18400,\n",
              " 'must': 18131,\n",
              " '3mbps': 1103,\n",
              " 'tasks': 26674,\n",
              " 'watching': 29543,\n",
              " 'processor': 21258,\n",
              " 'mediatek': 17199,\n",
              " 'mt6582': 18034,\n",
              " '3ghz': 1089,\n",
              " 'quad': 21717,\n",
              " 'core': 7488,\n",
              " '512kb': 1334,\n",
              " 'l2': 15803,\n",
              " 'runs': 23473,\n",
              " 'channel': 6199,\n",
              " '533mhz': 1364,\n",
              " 'includes': 14475,\n",
              " '500mhz': 1309,\n",
              " 'darn': 8137,\n",
              " 'today': 27415,\n",
              " 'bottom': 5239,\n",
              " 'line': 16323,\n",
              " 'fastest': 11186,\n",
              " 'computing': 7049,\n",
              " 'portion': 20816,\n",
              " 'actually': 2405,\n",
              " 'ghz': 12464,\n",
              " '1gb': 502,\n",
              " '16gb': 382,\n",
              " 'additional': 2454,\n",
              " 'through': 27212,\n",
              " 'wonderful': 30051,\n",
              " '10gb': 122,\n",
              " 'cloud': 6608,\n",
              " 'specifications': 25353,\n",
              " '13mp': 273,\n",
              " '5mp': 1444,\n",
              " 'combo': 6778,\n",
              " '4x': 1292,\n",
              " 'zoom': 30607,\n",
              " '8mp': 1868,\n",
              " '2mp': 860,\n",
              " '3x': 1123,\n",
              " 'their': 27035,\n",
              " 'pictures': 20407,\n",
              " 'taken': 26592,\n",
              " '13': 242,\n",
              " 'mega': 17225,\n",
              " 'pixels': 20500,\n",
              " 'creates': 7719,\n",
              " 'finer': 11435,\n",
              " 'allowing': 2847,\n",
              " 'crop': 7802,\n",
              " 'brings': 5394,\n",
              " 'subject': 26031,\n",
              " 'closer': 6597,\n",
              " 'convenience': 7389,\n",
              " 'shop': 24404,\n",
              " ...}"
            ]
          },
          "metadata": {},
          "execution_count": 18
        }
      ]
    },
    {
      "cell_type": "code",
      "source": [
        "# vocab size\n",
        "len(vect.vocabulary_.keys())"
      ],
      "metadata": {
        "colab": {
          "base_uri": "https://localhost:8080/"
        },
        "id": "7mCfImIa6LBV",
        "outputId": "c62f6499-d062-4f54-cba4-ef2dc41dbcfb"
      },
      "execution_count": null,
      "outputs": [
        {
          "output_type": "execute_result",
          "data": {
            "text/plain": [
              "30628"
            ]
          },
          "metadata": {},
          "execution_count": 19
        }
      ]
    },
    {
      "cell_type": "code",
      "source": [
        "# transforming the train and test datasets\n",
        "X_train_transformed = vect.transform(X_train)\n",
        "X_test_transformed = vect.transform(X_test)"
      ],
      "metadata": {
        "id": "M12x-XbL6ODg"
      },
      "execution_count": null,
      "outputs": []
    },
    {
      "cell_type": "code",
      "source": [
        "print(type(X_train_transformed))\n",
        "print(X_train_transformed)"
      ],
      "metadata": {
        "colab": {
          "base_uri": "https://localhost:8080/"
        },
        "id": "GfH9uhYP6PMm",
        "outputId": "2c64ec18-69db-4a45-ab65-3fdc488e7a8d"
      },
      "execution_count": null,
      "outputs": [
        {
          "output_type": "stream",
          "name": "stdout",
          "text": [
            "<class 'scipy.sparse._csr.csr_matrix'>\n",
            "  (0, 3057)\t1\n",
            "  (0, 5922)\t1\n",
            "  (0, 8150)\t1\n",
            "  (0, 10224)\t1\n",
            "  (0, 11779)\t2\n",
            "  (0, 15229)\t4\n",
            "  (0, 15515)\t1\n",
            "  (0, 16246)\t2\n",
            "  (0, 17277)\t1\n",
            "  (0, 18748)\t1\n",
            "  (0, 19029)\t2\n",
            "  (0, 19741)\t1\n",
            "  (0, 23948)\t1\n",
            "  (0, 27024)\t3\n",
            "  (0, 27399)\t2\n",
            "  (0, 27686)\t1\n",
            "  (0, 29680)\t2\n",
            "  (0, 30095)\t2\n",
            "  (1, 10644)\t1\n",
            "  (1, 11513)\t1\n",
            "  (1, 21286)\t1\n",
            "  (1, 25665)\t1\n",
            "  (2, 2637)\t1\n",
            "  (2, 3038)\t1\n",
            "  (2, 3057)\t4\n",
            "  :\t:\n",
            "  (33298, 12685)\t1\n",
            "  (33298, 14473)\t1\n",
            "  (33298, 15182)\t2\n",
            "  (33298, 15229)\t2\n",
            "  (33298, 15502)\t1\n",
            "  (33298, 15603)\t1\n",
            "  (33298, 16872)\t1\n",
            "  (33298, 18748)\t1\n",
            "  (33298, 19436)\t1\n",
            "  (33298, 20302)\t2\n",
            "  (33298, 21118)\t1\n",
            "  (33298, 22097)\t1\n",
            "  (33298, 24939)\t1\n",
            "  (33298, 25135)\t1\n",
            "  (33298, 26971)\t1\n",
            "  (33298, 27024)\t3\n",
            "  (33298, 27139)\t1\n",
            "  (33298, 27606)\t1\n",
            "  (33298, 29981)\t1\n",
            "  (33299, 4274)\t1\n",
            "  (33299, 4455)\t1\n",
            "  (33299, 8817)\t1\n",
            "  (33299, 17851)\t1\n",
            "  (33299, 27468)\t1\n",
            "  (33299, 29986)\t1\n"
          ]
        }
      ]
    },
    {
      "cell_type": "code",
      "source": [
        "# function to plot confusion matrix\n",
        "def plot_confusion_matrix(confusion_matrix):\n",
        "    group_names = ['True Neg','False Pos','False Neg','True Pos']\n",
        "    group_counts = [\"{0:0.0f}\".format(value) for value in\n",
        "                confusion_matrix.flatten()]\n",
        "\n",
        "    labels = [f\"{v1}\\n{v2}\" for v1, v2 in\n",
        "          zip(group_names,group_counts)]\n",
        "    labels = np.asarray(labels).reshape(2,2)\n",
        "    sns.heatmap(confusion_matrix, annot=labels, fmt='', cmap='Blues')\n",
        "    plt.title(\"Confusion matrix\")\n",
        "    plt.show()"
      ],
      "metadata": {
        "id": "JZOJHCOH6Sqv"
      },
      "execution_count": null,
      "outputs": []
    },
    {
      "cell_type": "code",
      "source": [
        "# training the NB model and making predictions\n",
        "from sklearn.naive_bayes import MultinomialNB\n",
        "mnb = MultinomialNB()\n",
        "\n",
        "# fit\n",
        "mnb.fit(X_train_transformed,y_train)\n",
        "\n",
        "#Applying the model on train set too\n",
        "y_pred_train = mnb.predict(X_train_transformed) # returns classes 0 and 1\n",
        "\n",
        "y_pred_proba_tr = mnb.predict_proba(X_train_transformed) # returns the probability of a review being positive\n",
        "\n",
        "# predict class\n",
        "y_pred_class = mnb.predict(X_test_transformed)\n",
        "\n",
        "# predict probabilities\n",
        "y_pred_proba = mnb.predict_proba(X_test_transformed)"
      ],
      "metadata": {
        "id": "riH1bNpm6bEf"
      },
      "execution_count": null,
      "outputs": []
    },
    {
      "cell_type": "code",
      "source": [
        "# printing  accuracy on train dataset\n",
        "from sklearn import metrics\n",
        "y_pred_train = mnb.predict(X_train_transformed)\n",
        "\n",
        "print (\"Accuracy on train dataset :\")\n",
        "metrics.accuracy_score( y_train, y_pred_train)"
      ],
      "metadata": {
        "colab": {
          "base_uri": "https://localhost:8080/"
        },
        "id": "xINWCAIU6eB8",
        "outputId": "59d88b55-a664-4173-e6b0-d16df6b93ef4"
      },
      "execution_count": null,
      "outputs": [
        {
          "output_type": "stream",
          "name": "stdout",
          "text": [
            "Accuracy on train dataset :\n"
          ]
        },
        {
          "output_type": "execute_result",
          "data": {
            "text/plain": [
              "0.8891291291291291"
            ]
          },
          "metadata": {},
          "execution_count": 24
        }
      ]
    },
    {
      "cell_type": "code",
      "source": [
        "# printing the  accuracy on test dataset\n",
        "from sklearn import metrics\n",
        "print (\"Accuracy on test dataset :\")\n",
        "metrics.accuracy_score(y_test, y_pred_class)"
      ],
      "metadata": {
        "colab": {
          "base_uri": "https://localhost:8080/"
        },
        "id": "u21foC_C6gVU",
        "outputId": "561635be-e674-4bd1-b047-f9fc3e489333"
      },
      "execution_count": null,
      "outputs": [
        {
          "output_type": "stream",
          "name": "stdout",
          "text": [
            "Accuracy on test dataset :\n"
          ]
        },
        {
          "output_type": "execute_result",
          "data": {
            "text/plain": [
              "0.8723423423423423"
            ]
          },
          "metadata": {},
          "execution_count": 25
        }
      ]
    },
    {
      "cell_type": "code",
      "source": [
        "# confusion matrix\n",
        "confusion_train =metrics.confusion_matrix(y_train, y_pred_train)\n",
        "print(confusion_train)"
      ],
      "metadata": {
        "colab": {
          "base_uri": "https://localhost:8080/"
        },
        "id": "yngPIi6_6ioH",
        "outputId": "1d92efa0-01c1-4ae7-e873-183264ccbb5f"
      },
      "execution_count": null,
      "outputs": [
        {
          "output_type": "stream",
          "name": "stdout",
          "text": [
            "[[ 6994  1741]\n",
            " [ 1951 22614]]\n"
          ]
        }
      ]
    },
    {
      "cell_type": "code",
      "source": [
        "# ploting confusion matrix\n",
        "plot_confusion_matrix(confusion_train)"
      ],
      "metadata": {
        "colab": {
          "base_uri": "https://localhost:8080/",
          "height": 457
        },
        "id": "Hmqu99fU6ljW",
        "outputId": "636f522b-828e-46f5-877c-607e02fd3862"
      },
      "execution_count": null,
      "outputs": [
        {
          "output_type": "display_data",
          "data": {
            "text/plain": [
              "<Figure size 640x480 with 2 Axes>"
            ],
            "image/png": "[encoded data removed]"
          },
          "metadata": {}
        }
      ]
    },
    {
      "cell_type": "code",
      "source": [
        "# confusion matrix\n",
        "confusion_test =metrics.confusion_matrix(y_test, y_pred_class)\n",
        "print(confusion_test)"
      ],
      "metadata": {
        "colab": {
          "base_uri": "https://localhost:8080/"
        },
        "id": "B0TEyx046qj0",
        "outputId": "bfa6c35b-008f-4293-b79b-ea6150f2a967"
      },
      "execution_count": null,
      "outputs": [
        {
          "output_type": "stream",
          "name": "stdout",
          "text": [
            "[[2178  746]\n",
            " [ 671 7505]]\n"
          ]
        }
      ]
    },
    {
      "cell_type": "code",
      "source": [
        "# ploting confusion matrix\n",
        "plot_confusion_matrix(confusion_test)"
      ],
      "metadata": {
        "colab": {
          "base_uri": "https://localhost:8080/",
          "height": 457
        },
        "id": "yG-V8yRY6tNm",
        "outputId": "1d5cb35e-6353-4a7e-cb52-f72f3f2393f9"
      },
      "execution_count": null,
      "outputs": [
        {
          "output_type": "display_data",
          "data": {
            "text/plain": [
              "<Figure size 640x480 with 2 Axes>"
            ],
            "image/png": "[encoded data removed]"
          },
          "metadata": {}
        }
      ]
    },
    {
      "cell_type": "code",
      "source": [
        "# creating an ROC curve\n",
        "from sklearn.metrics import confusion_matrix as sk_confusion_matrix\n",
        "from sklearn.metrics import roc_curve, auc, classification_report\n",
        "import matplotlib.pyplot as plt"
      ],
      "metadata": {
        "id": "VeWVqfC26vDG"
      },
      "execution_count": null,
      "outputs": []
    },
    {
      "cell_type": "code",
      "source": [
        "# for train dataset\n",
        "false_positive_rate_tr, true_positive_rate_tr, thresholds_tr = roc_curve(y_train, y_pred_proba_tr[:,1])\n",
        "roc_auc_tr = auc(false_positive_rate_tr, true_positive_rate_tr)"
      ],
      "metadata": {
        "id": "OT38t-8B67J2"
      },
      "execution_count": null,
      "outputs": []
    },
    {
      "cell_type": "code",
      "source": [
        "# for test dataset\n",
        "false_positive_rate, true_positive_rate, thresholds = roc_curve(y_test, y_pred_proba[:,1])\n",
        "roc_auc = auc(false_positive_rate, true_positive_rate)"
      ],
      "metadata": {
        "id": "RlcJeSDm69pj"
      },
      "execution_count": null,
      "outputs": []
    },
    {
      "cell_type": "code",
      "source": [
        "# area under the curve\n",
        "print (roc_auc)"
      ],
      "metadata": {
        "colab": {
          "base_uri": "https://localhost:8080/"
        },
        "id": "9lq2Gg3l6_Yo",
        "outputId": "3afc2418-2eda-45c8-aa9c-799dd907d0bf"
      },
      "execution_count": null,
      "outputs": [
        {
          "output_type": "stream",
          "name": "stdout",
          "text": [
            "0.8648168390484579\n"
          ]
        }
      ]
    },
    {
      "cell_type": "code",
      "source": [
        "# plotting the ROC curve for train set\n",
        "%matplotlib inline\n",
        "plt.ylabel('True Positive Rate')\n",
        "plt.xlabel('False Positive Rate')\n",
        "plt.title('ROC')\n",
        "plt.plot(false_positive_rate_tr, true_positive_rate_tr)"
      ],
      "metadata": {
        "colab": {
          "base_uri": "https://localhost:8080/",
          "height": 497
        },
        "id": "RR_bq7LX7BfN",
        "outputId": "6f48c8ca-c38d-4e6f-86e9-5b9df88fc81b"
      },
      "execution_count": null,
      "outputs": [
        {
          "output_type": "execute_result",
          "data": {
            "text/plain": [
              "[<matplotlib.lines.Line2D at 0x7a4a637c80a0>]"
            ]
          },
          "metadata": {},
          "execution_count": 34
        },
        {
          "output_type": "display_data",
          "data": {
            "text/plain": [
              "<Figure size 640x480 with 1 Axes>"
            ],
            "image/png": "[encoded data removed]"
          },
          "metadata": {}
        }
      ]
    },
    {
      "cell_type": "code",
      "source": [
        "# plotting the ROC curve for test set\n",
        "%matplotlib inline\n",
        "plt.ylabel('True Positive Rate')\n",
        "plt.xlabel('False Positive Rate')\n",
        "plt.title('ROC')\n",
        "plt.plot(false_positive_rate, true_positive_rate)"
      ],
      "metadata": {
        "colab": {
          "base_uri": "https://localhost:8080/",
          "height": 497
        },
        "id": "J-ZNY4_67Kty",
        "outputId": "926d82f9-3958-4959-e0a0-d4d8b2ef4900"
      },
      "execution_count": null,
      "outputs": [
        {
          "output_type": "execute_result",
          "data": {
            "text/plain": [
              "[<matplotlib.lines.Line2D at 0x7a4a63801000>]"
            ]
          },
          "metadata": {},
          "execution_count": 35
        },
        {
          "output_type": "display_data",
          "data": {
            "text/plain": [
              "<Figure size 640x480 with 1 Axes>"
            ],
            "image/png": "[encoded data removed]"
          },
          "metadata": {}
        }
      ]
    },
    {
      "cell_type": "markdown",
      "source": [
        "calculate other Matrics - Sensitivity, Specificity, Precision,Recall and F1 score for train and test dataset"
      ],
      "metadata": {
        "id": "DKdxPzfT9Ifa"
      }
    },
    {
      "cell_type": "code",
      "source": [
        "# for train dataset\n",
        "TN_train = confusion_train[0, 0]\n",
        "FP_train = confusion_train[0, 1]\n",
        "FN_train = confusion_train[1, 0]\n",
        "TP_train = confusion_train[1, 1]"
      ],
      "metadata": {
        "id": "0SucnD6w9KZP"
      },
      "execution_count": null,
      "outputs": []
    },
    {
      "cell_type": "code",
      "source": [
        "# for test datset\n",
        "TN_test = confusion_test[0, 0]\n",
        "FP_test = confusion_test[0, 1]\n",
        "FN_test = confusion_test[1, 0]\n",
        "TP_test = confusion_test[1, 1]"
      ],
      "metadata": {
        "id": "RerfkMou9QkA"
      },
      "execution_count": null,
      "outputs": []
    },
    {
      "cell_type": "code",
      "source": [
        "sensitivity_train = TP_train / float(FN_train + TP_train)\n",
        "sensitivity_test = TP_test / float(FN_test + TP_test)\n",
        "print(\"sensitivity on train dataset\",sensitivity_train)\n",
        "print(\"sensitivity on test dataset\",sensitivity_test)"
      ],
      "metadata": {
        "colab": {
          "base_uri": "https://localhost:8080/"
        },
        "id": "ZCAiaFI99Rev",
        "outputId": "d5eb39b2-7c9c-4414-e794-d36366c86508"
      },
      "execution_count": null,
      "outputs": [
        {
          "output_type": "stream",
          "name": "stdout",
          "text": [
            "sensitivity on train dataset 0.9205780582129045\n",
            "sensitivity on test dataset 0.9179305283757339\n"
          ]
        }
      ]
    },
    {
      "cell_type": "code",
      "source": [
        "specificity_train = TN_train / float(TN_train + FP_train)\n",
        "specificity_test = TN_test / float(TN_test + FP_test)\n",
        "print(\"specificity on train dataset\",specificity_train)\n",
        "print(\"specificity on train dataset\",specificity_test)"
      ],
      "metadata": {
        "colab": {
          "base_uri": "https://localhost:8080/"
        },
        "id": "UC6mHDrj9WP4",
        "outputId": "3192ee29-18c4-4d03-f770-550ee913de48"
      },
      "execution_count": null,
      "outputs": [
        {
          "output_type": "stream",
          "name": "stdout",
          "text": [
            "specificity on train dataset 0.8006868918145392\n",
            "specificity on train dataset 0.7448700410396717\n"
          ]
        }
      ]
    },
    {
      "cell_type": "code",
      "source": [
        "#Precision = TruePositives / (TruePositives + FalsePositive)\n",
        "precision_train = TP_train / float(TP_train + FP_train)\n",
        "precision_test = TP_test / float(TP_test + FP_test)\n",
        "print(\"precision on train dataset\",precision_train)\n",
        "print(\"precision on test dataset\",precision_test)"
      ],
      "metadata": {
        "colab": {
          "base_uri": "https://localhost:8080/"
        },
        "id": "HCxCk8X69YyG",
        "outputId": "887160cb-51e8-4fe9-ea1d-0825dae9e80a"
      },
      "execution_count": null,
      "outputs": [
        {
          "output_type": "stream",
          "name": "stdout",
          "text": [
            "precision on train dataset 0.9285157051940054\n",
            "precision on test dataset 0.9095867167616046\n"
          ]
        }
      ]
    },
    {
      "cell_type": "code",
      "source": [
        "# Recall = TruePositives / (TruePositives + FalseNegatives)\n",
        "Recall_train = TP_train / float(TP_train + FN_train)\n",
        "Recall_test = TP_test / float(TP_test + FN_test)\n",
        "print(\"Recall on train dataset\",Recall_train)\n",
        "print(\"Recall on test dataset\",Recall_test)"
      ],
      "metadata": {
        "colab": {
          "base_uri": "https://localhost:8080/"
        },
        "id": "TRTOSTK39bs_",
        "outputId": "e2424829-e31d-427b-84d8-af5a9bca74f5"
      },
      "execution_count": null,
      "outputs": [
        {
          "output_type": "stream",
          "name": "stdout",
          "text": [
            "Recall on train dataset 0.9205780582129045\n",
            "Recall on test dataset 0.9179305283757339\n"
          ]
        }
      ]
    },
    {
      "cell_type": "code",
      "source": [
        "# F1 = 2*(P*R) / (P+R)\n",
        "F1_train = 2*(precision_train*Recall_train) / (precision_train + Recall_train)\n",
        "F1_test = 2*(precision_test*Recall_test) / (precision_test + Recall_test)\n",
        "print(\"F1 on train dataset\",F1_train)\n",
        "print(\"F1 on test dataset\",F1_test)"
      ],
      "metadata": {
        "colab": {
          "base_uri": "https://localhost:8080/"
        },
        "id": "L5EUqjPFDzqG",
        "outputId": "16c0ece4-98fa-43b8-acee-fe66f7067dfe"
      },
      "execution_count": null,
      "outputs": [
        {
          "output_type": "stream",
          "name": "stdout",
          "text": [
            "F1 on train dataset 0.9245298446443173\n",
            "F1 on test dataset 0.9137395750897912\n"
          ]
        }
      ]
    },
    {
      "cell_type": "code",
      "source": [
        "from imblearn import over_sampling\n",
        "ros = over_sampling.RandomOverSampler(random_state=0)\n",
        "X_train, y_train = ros.fit_resample(pd.DataFrame(X_train), pd.Series(y_train))"
      ],
      "metadata": {
        "id": "b5FmHuSW7NGu"
      },
      "execution_count": null,
      "outputs": []
    },
    {
      "cell_type": "code",
      "source": [
        "pd.Series(y_train).value_counts()"
      ],
      "metadata": {
        "colab": {
          "base_uri": "https://localhost:8080/"
        },
        "id": "1zjfMjLR7blq",
        "outputId": "6347ade8-abea-4fb8-ffa9-8275f2bcb12a"
      },
      "execution_count": null,
      "outputs": [
        {
          "output_type": "execute_result",
          "data": {
            "text/plain": [
              "0    24565\n",
              "1    24565\n",
              "Name: review_sentiment, dtype: int64"
            ]
          },
          "metadata": {},
          "execution_count": 44
        }
      ]
    }
  ]
}